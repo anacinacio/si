{
 "cells": [
  {
   "cell_type": "markdown",
   "source": [
    "# AVALIAÇÃO 3\n",
    "exercício 4"
   ],
   "metadata": {
    "collapsed": false
   }
  },
  {
   "cell_type": "markdown",
   "source": [
    "## Exercício 4\n",
    "Implementar o PCA"
   ],
   "metadata": {
    "collapsed": false
   }
  },
  {
   "cell_type": "markdown",
   "source": [
    "3.1) Adiciona o objeto PCA ao sub package decomposition .\n",
    "Deves criar um módulo chamado pca. py para implementar este objeto"
   ],
   "metadata": {
    "collapsed": false
   }
  },
  {
   "cell_type": "markdown",
   "source": [
    "3.2) Considera a estrutura do objeto PCA apresentada no diapositivo seguinte.\n",
    "\n",
    "▪Técnica de álgebra linear para reduzir as dimensões do dataset. O PCA a implementar usa a técnica de álgebra linear SVD (Singular Value Decomposition)\n",
    "▪ class PCA:\n",
    "    • Parâmetros:\n",
    "        - n_components – número de componentes\n",
    "    • Parâmetros estimados:\n",
    "        - mean – média das amostras\n",
    "        - components – os componentes principais aka matriz unitária dos eigenvectors\n",
    "        - explained_variance – a variância explicada aka matriz diagonal dos eigenvalues\n",
    "    • Métodos:\n",
    "        - fit – estima a média, os componentes e a variância explicada\n",
    "        - transform – calcula o dataset reduzido usando os componentes principais."
   ],
   "metadata": {
    "collapsed": false
   }
  },
  {
   "cell_type": "markdown",
   "source": [
    "3.3) Podes testar o objeto PCA num jupyter notebook usando o dataset iris.csv (classificação)"
   ],
   "metadata": {
    "collapsed": false
   }
  },
  {
   "cell_type": "code",
   "execution_count": 1,
   "outputs": [],
   "source": [
    "import numpy as np\n",
    "import matplotlib.pyplot as plt\n",
    "\n",
    "from si.data.dataset import Dataset\n",
    "from si.io.csv import read_csv\n",
    "from si.decomposition.pca import PCA"
   ],
   "metadata": {
    "collapsed": false
   }
  },
  {
   "cell_type": "markdown",
   "source": [
    "## Exemplos de como utilizar os objectos de agrupamento"
   ],
   "metadata": {
    "collapsed": false
   }
  },
  {
   "cell_type": "markdown",
   "source": [
    "## PCA"
   ],
   "metadata": {
    "collapsed": false
   }
  },
  {
   "cell_type": "code",
   "execution_count": 2,
   "outputs": [
    {
     "name": "stdout",
     "output_type": "stream",
     "text": [
      "[[5.1 3.5 1.4 0.2]\n",
      " [4.9 3.  1.4 0.2]\n",
      " [4.7 3.2 1.3 0.2]\n",
      " [4.6 3.1 1.5 0.2]\n",
      " [5.  3.6 1.4 0.2]\n",
      " [5.4 3.9 1.7 0.4]\n",
      " [4.6 3.4 1.4 0.3]\n",
      " [5.  3.4 1.5 0.2]\n",
      " [4.4 2.9 1.4 0.2]\n",
      " [4.9 3.1 1.5 0.1]]\n"
     ]
    }
   ],
   "source": [
    "iris = read_csv(\"C:/Users/Carolina/Documents/GitHub/si/datasets/iris.csv\", sep=',',features=True, label=True)\n",
    "\n",
    "print(iris.X[:10])"
   ],
   "metadata": {
    "collapsed": false
   }
  },
  {
   "cell_type": "code",
   "execution_count": 3,
   "outputs": [
    {
     "data": {
      "text/plain": "array([[ 0.36158968, -0.08226889,  0.85657211,  0.35884393],\n       [-0.65653988, -0.72971237,  0.1757674 ,  0.07470647]])"
     },
     "execution_count": 3,
     "metadata": {},
     "output_type": "execute_result"
    }
   ],
   "source": [
    "n = 2\n",
    "iris_pca = PCA(n)\n",
    "iris_xreduced = iris_pca.fit_transform(iris)\n",
    "iris_pca.components\n"
   ],
   "metadata": {
    "collapsed": false
   }
  },
  {
   "cell_type": "code",
   "execution_count": 4,
   "outputs": [
    {
     "data": {
      "text/plain": "array([4.22484077, 0.24224357])"
     },
     "execution_count": 4,
     "metadata": {},
     "output_type": "execute_result"
    }
   ],
   "source": [
    "iris_pca.explained_variance"
   ],
   "metadata": {
    "collapsed": false
   }
  },
  {
   "cell_type": "code",
   "execution_count": 5,
   "outputs": [
    {
     "data": {
      "text/plain": "array([5.84333333, 3.054     , 3.75866667, 1.19866667])"
     },
     "execution_count": 5,
     "metadata": {},
     "output_type": "execute_result"
    }
   ],
   "source": [
    "iris_pca.mean"
   ],
   "metadata": {
    "collapsed": false
   }
  },
  {
   "cell_type": "code",
   "execution_count": 6,
   "outputs": [
    {
     "data": {
      "text/plain": "<Figure size 640x480 with 1 Axes>",
      "image/png": "[encoded data removed]"
     },
     "metadata": {},
     "output_type": "display_data"
    }
   ],
   "source": [
    "plt.bar(range(n), iris_pca.explained_variance*100)\n",
    "plt.xticks(range(n), ['PC'+str(i) for i in range(1,n+1)])\n",
    "plt.title(\"Variância explicada por PC\")\n",
    "plt.ylabel(\"Percentagem\")\n",
    "plt.show()"
   ],
   "metadata": {
    "collapsed": false
   }
  },
  {
   "cell_type": "markdown",
   "source": [
    "## kmeans"
   ],
   "metadata": {
    "collapsed": false
   }
  },
  {
   "cell_type": "code",
   "execution_count": 7,
   "outputs": [],
   "source": [
    "iris_dataset = read_csv(\"C:/Users/Carolina/Documents/GitHub/si/datasets/iris.csv\", sep=',',features=True, label=True)"
   ],
   "metadata": {
    "collapsed": false
   }
  },
  {
   "cell_type": "code",
   "execution_count": 8,
   "outputs": [],
   "source": [
    "# imports\n",
    "import matplotlib.pylab as plt\n",
    "import numpy as np\n",
    "from si.io.csv import read_csv\n",
    "from si.clustering.kmeans import KMeans"
   ],
   "metadata": {
    "collapsed": false
   }
  },
  {
   "cell_type": "code",
   "execution_count": 9,
   "outputs": [
    {
     "data": {
      "text/plain": "array([[4.55531352, 0.25166115, 2.82210004, 0.68707447],\n       [4.63161756, 0.53229065, 2.82465293, 0.35880078],\n       [4.79352493, 0.38729833, 2.99078052, 0.48936565],\n       [4.67705904, 0.53851648, 2.85353994, 0.32806537],\n       [4.60020448, 0.19148542, 2.86960593, 0.72841599],\n       [4.16315761, 0.73711148, 2.54483726, 1.09925776],\n       [4.72444507, 0.31091264, 2.93549072, 0.54961016],\n       [4.50465107, 0.25166115, 2.74362814, 0.52337671],\n       [4.86301154, 0.79372539, 3.0207876 , 0.52195948],\n       [4.58239907, 0.49328829, 2.77990737, 0.34672681],\n       [4.38279377, 0.58022984, 2.72255405, 0.96964915],\n       [4.50598283, 0.31091264, 2.72417542, 0.44078742],\n       [4.71034832, 0.56862407, 2.89513058, 0.3866248 ],\n       [5.18067382, 0.84656167, 3.3474106 , 0.81595039],\n       [4.58016171, 1.05356538, 3.0517339 , 1.52565621],\n       [4.35555751, 1.21518174, 2.90567546, 1.69471866],\n       [4.51086258, 0.65064071, 2.89439033, 1.17608777],\n       [4.51922352, 0.2236068 , 2.78758179, 0.67702853],\n       [4.09540978, 0.93273791, 2.51405696, 1.22044203],\n       [4.46188091, 0.38729833, 2.77633118, 0.89392861],\n       [4.18949654, 0.64549722, 2.4776852 , 0.74724001],\n       [4.41564053, 0.33166248, 2.7154133 , 0.80865517],\n       [5.09998836, 0.47258156, 3.34273227, 0.96620537],\n       [4.18692981, 0.5       , 2.4218892 , 0.47632567],\n       [4.26519416, 0.58022984, 2.47894286, 0.46171684],\n       [4.42446395, 0.59721576, 2.61888036, 0.27256844],\n       [4.34889426, 0.31091264, 2.58745009, 0.48250603],\n       [4.4338337 , 0.36968455, 2.71098569, 0.70094978],\n       [4.51440818, 0.36055513, 2.78098166, 0.6734633 ],\n       [4.5481734 , 0.45825757, 2.73656611, 0.27994218],\n       [4.50498405, 0.50662281, 2.6904283 , 0.19962241],\n       [4.28775947, 0.55677644, 2.58501461, 0.77354226],\n       [4.54800849, 0.71414284, 2.93062013, 1.2222615 ],\n       [4.51883627, 0.92915732, 2.97198421, 1.44370826],\n       [4.58239907, 0.49328829, 2.77990737, 0.34672681],\n       [4.75582603, 0.38729833, 2.98356351, 0.6099765 ],\n       [4.51030833, 0.62981479, 2.84106515, 0.97858412],\n       [4.58239907, 0.49328829, 2.77990737, 0.34672681],\n       [4.93719366, 0.71879529, 3.10344832, 0.5810567 ],\n       [4.46585728, 0.31091264, 2.71625014, 0.57173958],\n       [4.64277732, 0.12909944, 2.90265696, 0.69217654],\n       [4.93957298, 1.27671453, 3.09546619, 0.85820497],\n       [4.93172194, 0.59160798, 3.11339198, 0.61691965],\n       [4.28962484, 0.3958114 , 2.55118293, 0.629989  ],\n       [4.09205098, 0.66080759, 2.40688175, 0.8891512 ],\n       [4.63814416, 0.52599113, 2.8239172 , 0.31948604],\n       [4.41496107, 0.45092498, 2.72696288, 0.88267115],\n       [4.75624655, 0.44347116, 2.94430364, 0.43910371],\n       [4.41552729, 0.49328829, 2.73893795, 0.90953643],\n       [4.58616193, 0.27688746, 2.81636485, 0.5061081 ],\n       [0.7796674 , 4.12027507, 1.49065114, 3.87392005],\n       [0.94677413, 3.70450177, 0.94653944, 3.43266404],\n       [0.563366  , 4.27122153, 1.53828688, 4.00021261],\n       [2.12046722, 3.13847097, 0.72593104, 2.67565102],\n       [0.93401352, 3.88458492, 1.05711653, 3.5604095 ],\n       [1.52163769, 3.47419055, 0.65263843, 3.09417569],\n       [0.80739163, 3.86307304, 1.09637622, 3.5945222 ],\n       [2.98962895, 2.34875854, 1.21776431, 1.82478741],\n       [0.97076323, 3.85443468, 1.08452601, 3.54518936],\n       [2.22010839, 2.90574144, 0.67137331, 2.48719629],\n       [2.94106805, 2.72090671, 1.31117645, 2.16089767],\n       [1.46368755, 3.28988348, 0.4444045 , 2.96589207],\n       [2.02382836, 3.23573794, 0.81214117, 2.78810918],\n       [1.07279134, 3.77580014, 0.89701629, 3.4345517 ],\n       [2.15925479, 2.63122278, 0.35248916, 2.27503297],\n       [1.01038668, 3.73496988, 1.07030244, 3.46958171],\n       [1.48807972, 3.47898453, 0.71411686, 3.12993862],\n       [1.85010304, 3.08814939, 0.39718396, 2.69282948],\n       [1.47050374, 3.8457769 , 1.08894768, 3.42964163],\n       [2.11030359, 2.9433541 , 0.50190731, 2.50522362],\n       [1.01088142, 3.90341731, 1.12536945, 3.60224172],\n       [1.61968554, 3.15964133, 0.36693081, 2.81678781],\n       [1.03314145, 4.12835722, 1.25608722, 3.74900444],\n       [1.20949628, 3.74121192, 0.88938285, 3.38113462],\n       [1.24514306, 3.51425668, 0.74238247, 3.20055508],\n       [1.04205626, 3.7       , 0.97679002, 3.41373004],\n       [0.80491071, 4.15491677, 1.38276564, 3.84209591],\n       [0.41398219, 4.33628105, 1.52045423, 4.04267021],\n       [1.21629817, 3.59861084, 0.71493477, 3.25835636],\n       [2.3477396 , 2.56839768, 0.5641583 , 2.15153628],\n       [2.26768191, 2.87112057, 0.63702987, 2.40944074],\n       [2.36936305, 2.75983091, 0.68173902, 2.29190141],\n       [1.90154707, 2.96479342, 0.24724831, 2.57901737],\n       [1.01088142, 4.1980154 , 1.32050336, 3.82596357],\n       [1.65238653, 3.44335108, 0.79304725, 3.08392442],\n       [1.15190332, 3.58189894, 0.88433072, 3.31972738],\n       [0.7080828 , 4.01206514, 1.26330397, 3.73673419],\n       [1.48875157, 3.70899807, 0.97459377, 3.30575215],\n       [1.78476364, 3.05122926, 0.31390177, 2.70161766],\n       [2.04019147, 3.0664855 , 0.55569242, 2.63098296],\n       [1.8157316 , 3.36204303, 0.69429159, 2.93810172],\n       [1.10357657, 3.67196587, 0.80676638, 3.3468389 ],\n       [1.86249329, 3.07950212, 0.36728458, 2.67696571],\n       [2.95751268, 2.40069434, 1.19689611, 1.86851026],\n       [1.78672361, 3.20468407, 0.45878358, 2.80545716],\n       [1.69141398, 3.13634607, 0.34258647, 2.78777706],\n       [1.67044343, 3.18381323, 0.3504569 , 2.82250169],\n       [1.32150719, 3.43268602, 0.59168637, 3.10445275],\n       [3.02809862, 2.1015867 , 1.21129502, 1.61079605],\n       [1.75823242, 3.11608729, 0.29535677, 2.74020766],\n       [1.07349022, 5.33322917, 2.55540462, 5.04768347],\n       [1.13814817, 4.25166634, 1.42189348, 3.8795567 ],\n       [0.77031244, 5.39104195, 2.56347254, 5.10067507],\n       [0.68474904, 4.75920161, 1.88764659, 4.42311239],\n       [0.71963967, 5.12152321, 2.27155517, 4.81031271],\n       [1.58914482, 6.19596643, 3.38329959, 5.9098033 ],\n       [2.17724166, 3.58747822, 1.27456202, 3.14657913],\n       [1.20036713, 5.73788579, 2.91052087, 5.43301269],\n       [0.91481214, 5.13192621, 2.2474434 , 4.77100007],\n       [1.16849529, 5.71868283, 2.99702697, 5.49149486],\n       [0.35620394, 4.42831797, 1.63288901, 4.15275868],\n       [0.66285839, 4.59093309, 1.70711705, 4.24515378],\n       [0.39163918, 4.93389636, 2.10264874, 4.64034612],\n       [1.34680409, 4.22571493, 1.44261281, 3.83080074],\n       [1.20866921, 4.4448472 , 1.70719312, 4.10291642],\n       [0.56954477, 4.68365954, 1.90374594, 4.40498844],\n       [0.44708081, 4.7226405 , 1.86292307, 4.40851838],\n       [1.81380298, 6.33903252, 3.64493447, 6.1239842 ],\n       [2.01454244, 6.59621103, 3.74837998, 6.27887677],\n       [1.38505641, 4.20753293, 1.39217266, 3.77730026],\n       [0.60694419, 5.19839719, 2.40323684, 4.92888661],\n       [1.32471931, 4.05750334, 1.31097833, 3.69462034],\n       [1.75353393, 6.31690853, 3.496245  , 6.01463008],\n       [0.81907341, 4.18051034, 1.30332812, 3.8336518 ],\n       [0.4923223 , 5.0447993 , 2.2455935 , 4.77356116],\n       [0.84254451, 5.41202365, 2.62284455, 5.13811439],\n       [0.87514642, 4.04351332, 1.17233889, 3.70528115],\n       [0.82211997, 4.06816912, 1.21669738, 3.74771993],\n       [0.70383325, 4.90475959, 2.03271025, 4.56993365],\n       [0.76608175, 5.204165  , 2.41151766, 4.91244047],\n       [1.11820448, 5.64948375, 2.82803025, 5.34535425],\n       [1.6854914 , 6.12508503, 3.48279098, 5.92432502],\n       [0.74019001, 4.9419969 , 2.07804586, 4.60983621],\n       [0.77998798, 4.24067605, 1.36008567, 3.89385045],\n       [1.10719522, 4.64291575, 1.79276013, 4.25656759],\n       [1.3199929 , 5.89038765, 3.12035034, 5.62315295],\n       [0.79930048, 4.9419969 , 2.19680152, 4.67537254],\n       [0.48050104, 4.67938742, 1.83326812, 4.37190494],\n       [0.95282803, 3.95179284, 1.11137649, 3.62851835],\n       [0.30394284, 4.88091521, 2.08275898, 4.60553582],\n       [0.63077829, 5.08691131, 2.28150993, 4.80380222],\n       [0.47893763, 4.71557702, 1.97650861, 4.454735  ],\n       [1.13814817, 4.25166634, 1.42189348, 3.8795567 ],\n       [0.75391064, 5.33010319, 2.51681912, 5.05109422],\n       [0.75655882, 5.19967948, 2.43066754, 4.93680781],\n       [0.48824302, 4.72475749, 1.93373047, 4.43999469],\n       [0.92378637, 4.34396133, 1.47576589, 3.97574091],\n       [0.39608238, 4.53173992, 1.69091208, 4.22950801],\n       [0.74992083, 4.69929073, 1.96461272, 4.43252259],\n       [0.94014959, 4.19086308, 1.35965591, 3.85643246]])"
     },
     "execution_count": 9,
     "metadata": {},
     "output_type": "execute_result"
    }
   ],
   "source": [
    "# kmeans\n",
    "k = 4\n",
    "kmeans = KMeans(k)\n",
    "distances = kmeans.fit_transform(iris_dataset)\n",
    "distances"
   ],
   "metadata": {
    "collapsed": false
   }
  },
  {
   "cell_type": "code",
   "execution_count": 10,
   "outputs": [
    {
     "data": {
      "text/plain": "array([1, 3, 1, 3, 1, 1, 1, 1, 3, 3, 1, 1, 3, 3, 1, 1, 1, 1, 1, 1, 1, 1,\n       1, 3, 3, 3, 1, 1, 1, 3, 3, 1, 1, 1, 3, 1, 1, 3, 3, 1, 1, 3, 1, 1,\n       1, 3, 1, 3, 1, 1, 0, 2, 0, 2, 0, 2, 0, 2, 0, 2, 2, 2, 2, 2, 2, 0,\n       2, 2, 2, 2, 0, 2, 0, 2, 2, 2, 0, 0, 2, 2, 2, 2, 2, 0, 2, 2, 0, 2,\n       2, 2, 2, 2, 2, 2, 2, 2, 2, 2, 2, 2, 0, 0, 0, 0, 0, 0, 2, 0, 0, 0,\n       0, 0, 0, 0, 0, 0, 0, 0, 0, 0, 0, 2, 0, 0, 0, 0, 0, 0, 0, 0, 0, 0,\n       0, 0, 0, 0, 0, 0, 0, 0, 0, 0, 0, 0, 0, 0, 0, 0, 0, 0], dtype=int64)"
     },
     "execution_count": 10,
     "metadata": {},
     "output_type": "execute_result"
    }
   ],
   "source": [
    "predictions = kmeans.predict(iris_dataset)\n",
    "predictions"
   ],
   "metadata": {
    "collapsed": false
   }
  },
  {
   "cell_type": "code",
   "execution_count": 11,
   "outputs": [
    {
     "data": {
      "text/plain": "<Figure size 640x480 with 1 Axes>",
      "image/png": "[encoded data removed]"
     },
     "metadata": {},
     "output_type": "display_data"
    }
   ],
   "source": [
    "# plotting\n",
    "for i in range(k):\n",
    "    k_sample = iris_dataset.X[np.where(predictions == i)]\n",
    "    plt.plot(k_sample[:, 0], k_sample[:, 1], 'o')\n",
    "    lines = plt.plot(kmeans.centroids[i, 0], kmeans.centroids[i, 1], 'kx')\n",
    "    plt.setp(lines, ms=15.0)\n",
    "    plt.setp(lines, mew=2.0)\n",
    "\n",
    "plt.show()"
   ],
   "metadata": {
    "collapsed": false
   }
  }
 ],
 "metadata": {
  "kernelspec": {
   "display_name": "Python 3",
   "language": "python",
   "name": "python3"
  },
  "language_info": {
   "codemirror_mode": {
    "name": "ipython",
    "version": 2
   },
   "file_extension": ".py",
   "mimetype": "text/x-python",
   "name": "python",
   "nbconvert_exporter": "python",
   "pygments_lexer": "ipython2",
   "version": "2.7.6"
  }
 },
 "nbformat": 4,
 "nbformat_minor": 0
}
