{
 "cells": [
  {
   "cell_type": "markdown",
   "source": [
    "# AVALIAÇÃO 7"
   ],
   "metadata": {
    "collapsed": false
   }
  },
  {
   "cell_type": "markdown",
   "source": [
    "## Exercício 8\n",
    "Adiciona o método randomized_search_cv"
   ],
   "metadata": {
    "collapsed": false
   }
  },
  {
   "cell_type": "markdown",
   "source": [
    "8.1) Considera a estrutura e algoritmo do randomized_search_cv\n",
    "O método randomized_search_cv implementa uma estratégia de otimização de parâmetros de usando Nº combinações aleatórias. O randomized_search_cv avalia apenas um conjunto aleatório de parâmetros retirados de uma distribuição ou conjunto de valores possíveis.\n",
    "\n",
    "si -> model_selection -> randomized_search_cv\n",
    "\n",
    "8.2)\n",
    "Valida a tua implementação seguindo o protocolo:\n",
    "1. Usa o dataset breast bin.csv\n",
    "2. Usa o sklearn.preprocessing.StandardScaler para standardizar os dataset .\n",
    "breast_dataset.X = StandardScaler fit_transform breast_dataset.X\n",
    "3. Cria o modelo LogisticRegression\n",
    "4. Realiza uma procura aleatória com as seguintes distribuições de parâmetros:\n",
    "•l2_penalty: distribuição entre 1 e 10 com 10 intervalos iguais (e.g., np.linspace (1, 10,10)\n",
    "• alpha: distribuição entre 0.001 e 0.0001 com 100 intervalos iguais (e.g., np.linspace (0.001, 0.0001,100)\n",
    "• max_iter: distribuição entre 1000 e 2000 com 200 intervalos iguais (e.g., np.linspace (1000, 2000, 2 00)\n",
    "5. Podes usar n_iter de 10 e 3 folds para o cross_validate\n",
    "6. Quais os scores obtidos?"
   ],
   "metadata": {
    "collapsed": false
   }
  },
  {
   "cell_type": "code",
   "execution_count": 1,
   "outputs": [],
   "source": [
    "import numpy as np\n",
    "import matplotlib.pyplot as plt\n",
    "\n",
    "from si.io.csv import read_csv\n",
    "from si.model_selection.split import train_test_split\n",
    "from si.linear_model.ridge_regression import RidgeRegression\n",
    "from si.linear_model.logistic_regression import LogisticRegression\n",
    "from si.model_selection.randomized_search import randomized_search_cv\n"
   ],
   "metadata": {
    "collapsed": false
   }
  },
  {
   "cell_type": "code",
   "execution_count": 2,
   "outputs": [],
   "source": [
    "#dataset\n",
    "breast_dataset = read_csv('C:/Users/Carolina/Documents/GitHub/si/datasets/breast-bin.csv', sep=',',features=True, label=True)"
   ],
   "metadata": {
    "collapsed": false
   }
  },
  {
   "cell_type": "code",
   "execution_count": 3,
   "outputs": [],
   "source": [
    "#standardizar o dataset\n",
    "\n",
    "from sklearn import preprocessing\n",
    "breast_dataset.X= preprocessing.StandardScaler().fit_transform(breast_dataset.X)"
   ],
   "metadata": {
    "collapsed": false
   }
  },
  {
   "cell_type": "code",
   "execution_count": 4,
   "outputs": [],
   "source": [
    "#modelo Logistic Regression\n",
    "model_log = LogisticRegression()"
   ],
   "metadata": {
    "collapsed": false
   }
  },
  {
   "cell_type": "code",
   "execution_count": 5,
   "outputs": [],
   "source": [
    "#procura aleatória com as determinadas distribuições de parâmetros:\n",
    "param_distribution = {\n",
    "        'l2_penalty': np.linspace(1, 10, 10),\n",
    "        'alpha': np.linspace(0.001, 0.0001, 100),\n",
    "        'max_iter': np.linspace(1000, 2000, 200, dtype=int)\n",
    "    }"
   ],
   "metadata": {
    "collapsed": false
   }
  },
  {
   "cell_type": "code",
   "execution_count": 8,
   "outputs": [],
   "source": [
    "#n_iter de 10 e 3 folds\n",
    "scores_ = randomized_search_cv(model_log, breast_dataset, parameter_distribution = param_distribution, cv=3, n_iter=10)"
   ],
   "metadata": {
    "collapsed": false
   }
  },
  {
   "cell_type": "code",
   "execution_count": 9,
   "outputs": [
    {
     "name": "stdout",
     "output_type": "stream",
     "text": [
      "{'parameters': [{'l2_penalty': 1.0, 'alpha': 0.0005090909090909091, 'max_iter': 1020}, {'l2_penalty': 1.0, 'alpha': 0.0007727272727272728, 'max_iter': 1904}, {'l2_penalty': 9.0, 'alpha': 0.0008454545454545455, 'max_iter': 1020}, {'l2_penalty': 6.0, 'alpha': 0.00030000000000000003, 'max_iter': 1206}, {'l2_penalty': 4.0, 'alpha': 0.0004909090909090909, 'max_iter': 1788}, {'l2_penalty': 10.0, 'alpha': 0.0006363636363636364, 'max_iter': 1371}, {'l2_penalty': 4.0, 'alpha': 0.00045454545454545455, 'max_iter': 1547}, {'l2_penalty': 4.0, 'alpha': 0.0006363636363636364, 'max_iter': 1035}, {'l2_penalty': 5.0, 'alpha': 0.00044545454545454543, 'max_iter': 1788}, {'l2_penalty': 3.0, 'alpha': 0.0009090909090909091, 'max_iter': 1623}], 'seeds': [662, 795, 367, 217, 719, 857, 514, 845, 751, 944], 'train': [[0.6834532374100719, 0.4028776978417266, 0.31654676258992803], [0.8920863309352518, 0.37410071942446044, 0.34532374100719426], [0.920863309352518, 0.33093525179856115, 0.34532374100719426], [0.5755395683453237, 0.3669064748201439, 0.23741007194244604], [0.841726618705036, 0.33093525179856115, 0.33093525179856115], [0.9136690647482014, 0.34532374100719426, 0.4172661870503597], [0.841726618705036, 0.30935251798561153, 0.2517985611510791], [0.9280575539568345, 0.8848920863309353, 0.2949640287769784], [0.920863309352518, 0.31654676258992803, 0.4028776978417266], [0.920863309352518, 0.3669064748201439, 0.2949640287769784]], 'test': [[0.6834532374100719, 0.4028776978417266, 0.31654676258992803], [0.8920863309352518, 0.37410071942446044, 0.34532374100719426], [0.920863309352518, 0.33093525179856115, 0.34532374100719426], [0.5755395683453237, 0.3669064748201439, 0.23741007194244604], [0.841726618705036, 0.33093525179856115, 0.33093525179856115], [0.9136690647482014, 0.34532374100719426, 0.4172661870503597], [0.841726618705036, 0.30935251798561153, 0.2517985611510791], [0.9280575539568345, 0.8848920863309353, 0.2949640287769784], [0.920863309352518, 0.31654676258992803, 0.4028776978417266], [0.920863309352518, 0.3669064748201439, 0.2949640287769784]]}\n"
     ]
    }
   ],
   "source": [
    "#scores obtidos\n",
    "print(scores_)"
   ],
   "metadata": {
    "collapsed": false
   }
  }
 ],
 "metadata": {
  "kernelspec": {
   "display_name": "Python 3",
   "language": "python",
   "name": "python3"
  },
  "language_info": {
   "codemirror_mode": {
    "name": "ipython",
    "version": 2
   },
   "file_extension": ".py",
   "mimetype": "text/x-python",
   "name": "python",
   "nbconvert_exporter": "python",
   "pygments_lexer": "ipython2",
   "version": "2.7.6"
  }
 },
 "nbformat": 4,
 "nbformat_minor": 0
}
