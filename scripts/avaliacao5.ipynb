{
 "cells": [
  {
   "cell_type": "markdown",
   "source": [
    "# AVALIAÇÃO 5"
   ],
   "metadata": {
    "collapsed": false
   }
  },
  {
   "cell_type": "markdown",
   "source": [
    "## Exercício 6\n",
    "Completa as implementações dos modelos RidgeRegression e LogisticRegression"
   ],
   "metadata": {
    "collapsed": false
   }
  },
  {
   "cell_type": "markdown",
   "source": [
    "6.1) Adiciona aos modelos anteriores o atributo (parâmetro estimado) cost_history .\n",
    "O cost_history deve ser um dicionário.\n",
    "Durante as iterações do Gradient Descent, computa a função de custo self.cost dataset )) e armazena o resultado no dicionário cost_history.\n",
    "A chave deve ser o número da iteração e o valor deve ser o custo nessa iteração.\n",
    "\n",
    "6.2) Realiza um gráfico (line plot ) que permita visualizar o comportamento do custo em função do número de iterações.\n",
    "O eixo Y deve conter o valor de custo enquanto o eixo X deve conter as iterações. Podes usar o dicionário cost_history .\n",
    "Usa o dataset cpu.csv, o package matplotlib e um jupyter notebook para visualizares o comportamento da função de custo (J) no modelo RidgeRegression.\n",
    "Usa o dataset breast bin.csv, o package matplotlib e um jupyter notebook para visualizares o comportamento da função de custo (J) no modelo LogisticRegression\n",
    "\n",
    "NOTA: Deves usar o sklearn.preprocessing.StandardScaler para standardizar os dois datasets\n",
    "\n",
    "NOTA: Deves usar um número máximo de iterações superior a 1000 (max_iter = 2000)"
   ],
   "metadata": {
    "collapsed": false
   }
  },
  {
   "cell_type": "markdown",
   "source": [
    "6.3) Altera agora o algoritmo de Gradient Descent. Este algoritmo deve parar quando o valor da função de custo ( J/ self.cost ) não se altera.\n",
    " Quando a diferença entre o custo da iteração anterior e o custo da iteração atual for inferior a um determinado valor deves parar o Gradient Descent No caso do RidgeRegression o critério de paragem deve ser uma diferença inferior a 1.\n",
    "\n",
    "No caso do LogisticRegression , o critério de paragem deve ser uma diferença inferior a 0.0001.\n",
    " Deves usar o dicionário cost_history para obteres o custo da iteração anterior e calcular a diferença da seguinte forma: cost_history (i 1) cost_history.\n",
    "\n",
    " Usa o dataset cpu.csv, o package matplotlib e um jupyter notebook para visualizares o comportamento da função de custo (J) no modelo RidgeRegression\n",
    "\n",
    " Usa o dataset breast bin.csv, o package matplotlib e um jupyter notebook para visualizares o comportamento da função de custo (J) no modelo LogisticRegression\n",
    "\n",
    "NOTA: Deves usar o sklearn.preprocessing.StandardScaler para standardizar os dois datasets\n",
    "\n",
    "NOTA: Deves usar um número máximo de iterações superior a 1000\n",
    "max_iter = 2000"
   ],
   "metadata": {
    "collapsed": false
   }
  },
  {
   "cell_type": "code",
   "execution_count": 1,
   "outputs": [],
   "source": [
    "import numpy as np\n",
    "import matplotlib.pyplot as plt\n",
    "\n",
    "from si.io.csv import read_csv\n",
    "from si.model_selection.split import train_test_split\n",
    "from si.linear_model.ridge_regression import RidgeRegression\n",
    "from si.linear_model.logistic_regression import LogisticRegression"
   ],
   "metadata": {
    "collapsed": false
   }
  },
  {
   "cell_type": "markdown",
   "source": [
    "## RidgeRegression"
   ],
   "metadata": {
    "collapsed": false
   }
  },
  {
   "cell_type": "code",
   "execution_count": 2,
   "outputs": [],
   "source": [
    "#RidgeRegression\n",
    "cpu = read_csv('C:/Users/Carolina/Documents/GitHub/si/datasets/cpu.csv', sep=',',features=True, label=True)"
   ],
   "metadata": {
    "collapsed": false
   }
  },
  {
   "cell_type": "code",
   "execution_count": 3,
   "outputs": [],
   "source": [
    "import sklearn\n",
    "from sklearn import preprocessing\n",
    "cpu.X = preprocessing.StandardScaler().fit_transform(cpu.X)"
   ],
   "metadata": {
    "collapsed": false
   }
  },
  {
   "cell_type": "code",
   "execution_count": 4,
   "outputs": [
    {
     "data": {
      "text/plain": "array([ 274,   30,   22,  915,   16,  326,   72,    6, 1144,  208,   65,\n        130,   52,   45,   35,   36,   51,   31,  100,  132,   50,   60,\n        110,   18,   11,   50,   69,   27,   19,   41,  248,   32,   45,\n         26,   16,   26,   67,  465,   38,   17,  307], dtype=int64)"
     },
     "execution_count": 4,
     "metadata": {},
     "output_type": "execute_result"
    }
   ],
   "source": [
    "# split dataset\n",
    "train_dataset, test_dataset = train_test_split(cpu)\n",
    "test_dataset.y"
   ],
   "metadata": {
    "collapsed": false
   }
  },
  {
   "cell_type": "code",
   "execution_count": 5,
   "outputs": [
    {
     "data": {
      "text/plain": "array([  34,  214,  465, 1150,   32,  510,   40,   24,   71,   23,   11,\n         24,   27,  120,   54,   40,   17,  259,  318,   93,   71,  277,\n         70,   84,   42,   38,  368,   92,  208,   77,   52,   76,  185,\n         66,   24,   49,   32,   45,   40,   75,   36,   20,   33,   62,\n        140,   12,  220,   53,   18,   56,   40,  141,   29,   60,   20,\n         66,   22,   61,   50,   37,   63,   40,   21,  116,  367,   27,\n         25,   12,   86,  132,   32,   34,  370,  100,   70,   50,   38,\n         36,  143,  510,   25,  198,   18,   22,   62,   42,  144,   72,\n         30,   36,   18,   76,   12,  214,   38,   26,   30,   20,  237,\n         24,   60,   74,  172,   32,   36,   32,  188,   46,  114,   62,\n         16,  106,  489,   22,  189,   16,   58,  173,   66,  636,  138,\n         20,  109,   16,   28,   22,   33,   45,   50,  405,  144,   26,\n         11,   24,   50,   46,  212,   14,   40,  134,   33,   12,   21,\n         14,   80,   29,    8,  397,  269,  138,  105,  136,  277,   13,\n          6,   66,   35,   44,  133,   45,   30,  113,   64,   32,   10,\n         22,   60,    7], dtype=int64)"
     },
     "execution_count": 5,
     "metadata": {},
     "output_type": "execute_result"
    }
   ],
   "source": [
    "train_dataset.y"
   ],
   "metadata": {
    "collapsed": false
   }
  },
  {
   "cell_type": "code",
   "execution_count": 6,
   "outputs": [
    {
     "data": {
      "text/plain": "0.001"
     },
     "execution_count": 6,
     "metadata": {},
     "output_type": "execute_result"
    }
   ],
   "source": [
    "ridge = RidgeRegression(max_iter=2000, adaptive=False)\n",
    "ridge.fit(train_dataset)\n",
    "ridge.alpha"
   ],
   "metadata": {
    "collapsed": false
   }
  },
  {
   "cell_type": "code",
   "execution_count": 7,
   "outputs": [
    {
     "data": {
      "text/plain": "<Figure size 640x480 with 1 Axes>",
      "image/png": "[encoded data removed]"
     },
     "metadata": {},
     "output_type": "display_data"
    }
   ],
   "source": [
    "plt.plot(list(ridge.cost_history.keys()), list(ridge.cost_history.values()), '-', color = 'blue')\n",
    "plt.title('Cost')\n",
    "plt.show()"
   ],
   "metadata": {
    "collapsed": false
   }
  },
  {
   "cell_type": "code",
   "execution_count": 8,
   "outputs": [
    {
     "name": "stdout",
     "output_type": "stream",
     "text": [
      "Adaptive\n"
     ]
    },
    {
     "data": {
      "text/plain": "1.0959046745042015e-196"
     },
     "execution_count": 8,
     "metadata": {},
     "output_type": "execute_result"
    }
   ],
   "source": [
    "ridge = RidgeRegression(max_iter=2000, adaptive=True)\n",
    "ridge.fit(train_dataset)\n",
    "ridge.alpha"
   ],
   "metadata": {
    "collapsed": false
   }
  },
  {
   "cell_type": "code",
   "execution_count": 9,
   "outputs": [
    {
     "data": {
      "text/plain": "<Figure size 640x480 with 1 Axes>",
      "image/png": "[encoded data removed]"
     },
     "metadata": {},
     "output_type": "display_data"
    }
   ],
   "source": [
    "plt.plot(list(ridge.cost_history.keys()), list(ridge.cost_history.values()), '-', color = 'blue')\n",
    "plt.title('Cost')\n",
    "plt.show()"
   ],
   "metadata": {
    "collapsed": false
   }
  },
  {
   "cell_type": "code",
   "execution_count": 10,
   "outputs": [
    {
     "data": {
      "text/plain": "4633.694566456487"
     },
     "execution_count": 10,
     "metadata": {},
     "output_type": "execute_result"
    }
   ],
   "source": [
    "ridge.score(test_dataset)"
   ],
   "metadata": {
    "collapsed": false
   }
  },
  {
   "cell_type": "code",
   "execution_count": 11,
   "outputs": [
    {
     "data": {
      "text/plain": "4701.98049224086"
     },
     "execution_count": 11,
     "metadata": {},
     "output_type": "execute_result"
    }
   ],
   "source": [
    "ridge.cost(test_dataset)"
   ],
   "metadata": {
    "collapsed": false
   }
  },
  {
   "cell_type": "code",
   "execution_count": 12,
   "outputs": [
    {
     "data": {
      "text/plain": "array([128.26453523, -15.65693537, -10.02502879, 574.36226915,\n       -12.31507769, 253.64791387,  21.21110488, -28.14456071,\n       763.50700723, 256.32487007,  87.12304095, 103.35873423,\n        23.8228405 ,  24.77754089,  64.92402347,   9.65085393,\n       120.30651647,  -1.29310913, 161.76737614,  85.08005687,\n        51.11614466,  27.99404714, 127.61448727, -21.64761761,\n       -41.65875749,  16.50940913, -27.80634248,   2.37414919,\n        -3.61143797,  59.12954555, 255.32553266,  21.09183392,\n         2.6752332 , -19.0916076 , -33.13838134,  24.14101178,\n        10.6337403 , 350.28653503, 151.57111915, -12.18611573,\n       420.55222382])"
     },
     "execution_count": 12,
     "metadata": {},
     "output_type": "execute_result"
    }
   ],
   "source": [
    "ridge = RidgeRegression(max_iter=2000)\n",
    "ridge.fit(train_dataset)\n",
    "ridge.predict(test_dataset)"
   ],
   "metadata": {
    "collapsed": false
   }
  },
  {
   "cell_type": "markdown",
   "source": [
    "## logisticRegression"
   ],
   "metadata": {
    "collapsed": false
   }
  },
  {
   "cell_type": "code",
   "execution_count": 13,
   "outputs": [],
   "source": [
    "#LogisticRegression\n",
    "breast_bin = read_csv('C:/Users/Carolina/Documents/GitHub/si/datasets/breast-bin.csv', sep=',',features=True, label=True)"
   ],
   "metadata": {
    "collapsed": false
   }
  },
  {
   "cell_type": "code",
   "execution_count": 14,
   "outputs": [],
   "source": [
    "import sklearn\n",
    "from sklearn import preprocessing\n",
    "breast_bin.X = preprocessing.StandardScaler().fit_transform(breast_bin.X)"
   ],
   "metadata": {
    "collapsed": false
   }
  },
  {
   "cell_type": "code",
   "execution_count": 15,
   "outputs": [
    {
     "data": {
      "text/plain": "array([0., 1., 0., 0., 0., 0., 1., 0., 0., 1., 0., 1., 1., 1., 0., 0., 0.,\n       0., 1., 0., 0., 1., 0., 1., 1., 0., 0., 0., 0., 0., 1., 0., 1., 0.,\n       0., 0., 0., 0., 1., 1., 0., 0., 1., 0., 0., 1., 1., 0., 0., 1., 1.,\n       0., 1., 0., 0., 1., 0., 0., 1., 0., 1., 1., 1., 0., 0., 1., 0., 0.,\n       1., 0., 0., 0., 0., 0., 1., 0., 0., 1., 0., 1., 0., 1., 0., 0., 0.,\n       1., 1., 0., 0., 0., 0., 1., 0., 1., 1., 0., 0., 0., 0., 1., 1., 0.,\n       1., 1., 0., 1., 0., 0., 0., 1., 1., 1., 0., 0., 0., 1., 0., 1., 1.,\n       0., 0., 0., 1., 0., 0., 0., 0., 0., 0., 0., 0., 1., 0., 0., 0., 1.,\n       0., 0., 1.])"
     },
     "execution_count": 15,
     "metadata": {},
     "output_type": "execute_result"
    }
   ],
   "source": [
    "train_dataset, test_dataset = train_test_split(breast_bin)\n",
    "test_dataset.y"
   ],
   "metadata": {
    "collapsed": false
   }
  },
  {
   "cell_type": "code",
   "execution_count": 16,
   "outputs": [
    {
     "data": {
      "text/plain": "array([1., 1., 0., 0., 0., 0., 1., 0., 0., 1., 0., 1., 1., 1., 0., 0., 0.,\n       0., 1., 0., 0., 1., 0., 1., 1., 1., 0., 0., 0., 0., 1., 0., 1., 0.,\n       0., 0., 0., 0., 1., 1., 0., 0., 1., 0., 0., 1., 1., 0., 0., 1., 1.,\n       0., 1., 0., 0., 1., 0., 0., 1., 0., 1., 1., 1., 0., 0., 1., 0., 0.,\n       1., 0., 0., 0., 0., 0., 1., 0., 0., 1., 0., 1., 0., 1., 0., 0., 0.,\n       1., 1., 0., 0., 0., 0., 1., 0., 1., 1., 0., 0., 0., 0., 1., 1., 0.,\n       1., 1., 0., 1., 0., 0., 0., 1., 1., 1., 0., 0., 0., 1., 0., 1., 1.,\n       0., 0., 0., 1., 0., 0., 0., 0., 0., 0., 0., 0., 1., 0., 0., 0., 1.,\n       0., 0., 1.])"
     },
     "execution_count": 16,
     "metadata": {},
     "output_type": "execute_result"
    }
   ],
   "source": [
    "log_reg = LogisticRegression()\n",
    "log_reg.fit(train_dataset)\n",
    "predictions = log_reg.predict(test_dataset)\n",
    "predictions"
   ],
   "metadata": {
    "collapsed": false
   }
  },
  {
   "cell_type": "code",
   "execution_count": 17,
   "outputs": [
    {
     "data": {
      "text/plain": "0.9856115107913669"
     },
     "execution_count": 17,
     "metadata": {},
     "output_type": "execute_result"
    }
   ],
   "source": [
    "log_reg.score(test_dataset)"
   ],
   "metadata": {
    "collapsed": false
   }
  },
  {
   "cell_type": "code",
   "execution_count": 18,
   "outputs": [
    {
     "data": {
      "text/plain": "0.5674846321095116"
     },
     "execution_count": 18,
     "metadata": {},
     "output_type": "execute_result"
    }
   ],
   "source": [
    "log_reg.cost(test_dataset)"
   ],
   "metadata": {
    "collapsed": false
   }
  },
  {
   "cell_type": "code",
   "execution_count": 25,
   "outputs": [
    {
     "data": {
      "text/plain": "0.001"
     },
     "execution_count": 25,
     "metadata": {},
     "output_type": "execute_result"
    }
   ],
   "source": [
    "lg = LogisticRegression(max_iter=2000, adaptive=False)\n",
    "lg.fit(train_dataset)\n",
    "lg.alpha"
   ],
   "metadata": {
    "collapsed": false
   }
  },
  {
   "cell_type": "code",
   "execution_count": 26,
   "outputs": [
    {
     "data": {
      "text/plain": "<Figure size 640x480 with 1 Axes>",
      "image/png": "[encoded data removed]"
     },
     "metadata": {},
     "output_type": "display_data"
    }
   ],
   "source": [
    "plt.plot(list(lg.cost_history.keys()), list(lg.cost_history.values()), '-', color = 'blue')\n",
    "plt.title('Cost')\n",
    "plt.show()"
   ],
   "metadata": {
    "collapsed": false
   }
  },
  {
   "cell_type": "code",
   "execution_count": 27,
   "outputs": [
    {
     "name": "stdout",
     "output_type": "stream",
     "text": [
      "adaptative\n"
     ]
    },
    {
     "data": {
      "text/plain": "0.0"
     },
     "execution_count": 27,
     "metadata": {},
     "output_type": "execute_result"
    }
   ],
   "source": [
    "lg = LogisticRegression(max_iter=2000, adaptive=True)\n",
    "lg.fit(train_dataset)\n",
    "lg.alpha"
   ],
   "metadata": {
    "collapsed": false
   }
  },
  {
   "cell_type": "code",
   "execution_count": 28,
   "outputs": [
    {
     "data": {
      "text/plain": "<Figure size 640x480 with 1 Axes>",
      "image/png": "[encoded data removed]"
     },
     "metadata": {},
     "output_type": "display_data"
    }
   ],
   "source": [
    "plt.plot(list(lg.cost_history.keys()), list(lg.cost_history.values()), '-', color = 'blue')\n",
    "plt.title('Cost')\n",
    "plt.show()"
   ],
   "metadata": {
    "collapsed": false
   }
  },
  {
   "cell_type": "code",
   "execution_count": 21,
   "outputs": [
    {
     "name": "stdout",
     "output_type": "stream",
     "text": [
      "Parameters: [0.05252301 0.05515439 0.05325629 0.04532076 0.04227518 0.06120041\n",
      " 0.05001127 0.04531888 0.02168568]\n",
      "Predictions: [1. 1. 0. 0. 0. 0. 1. 0. 0. 1. 0. 1. 1. 1. 0. 0. 0. 0. 1. 0. 0. 1. 0. 1.\n",
      " 1. 1. 0. 0. 0. 0. 1. 0. 1. 0. 0. 0. 0. 0. 1. 1. 0. 0. 1. 0. 0. 1. 1. 0.\n",
      " 0. 1. 1. 0. 1. 0. 0. 1. 0. 0. 1. 0. 1. 1. 1. 0. 0. 1. 0. 0. 1. 0. 0. 0.\n",
      " 0. 0. 1. 0. 0. 1. 0. 1. 0. 1. 0. 0. 0. 1. 1. 0. 0. 0. 0. 1. 0. 1. 1. 0.\n",
      " 0. 0. 0. 1. 1. 0. 1. 1. 0. 1. 0. 0. 0. 1. 1. 1. 0. 0. 0. 1. 0. 1. 1. 0.\n",
      " 0. 0. 1. 0. 0. 0. 0. 0. 0. 0. 0. 1. 0. 0. 0. 1. 0. 0. 1.]\n",
      "Score: 0.9856115107913669\n",
      "Cost: 0.5673757410041168\n"
     ]
    }
   ],
   "source": [
    "breast_bin_train, breast_bin_test = train_test_split(breast_bin)\n",
    "\n",
    "# fit the model\n",
    "model_b = LogisticRegression(max_iter=2000)\n",
    "model_b._adaptive_fit(breast_bin_train)\n",
    "\n",
    "# get coefs\n",
    "print(f\"Parameters: {model_b.theta}\")\n",
    "\n",
    "# predict\n",
    "y_pred_ = model_b.predict(breast_bin_test)\n",
    "print(f\"Predictions: {y_pred_}\")\n",
    "\n",
    "# compute the score\n",
    "score = model_b.score(breast_bin_test)\n",
    "print(f\"Score: {score}\")\n",
    "\n",
    "# compute the cost\n",
    "cost = model_b.cost(breast_bin_test)\n",
    "print(f\"Cost: {cost}\")"
   ],
   "metadata": {
    "collapsed": false
   }
  }
 ],
 "metadata": {
  "kernelspec": {
   "display_name": "Python 3",
   "language": "python",
   "name": "python3"
  },
  "language_info": {
   "codemirror_mode": {
    "name": "ipython",
    "version": 2
   },
   "file_extension": ".py",
   "mimetype": "text/x-python",
   "name": "python",
   "nbconvert_exporter": "python",
   "pygments_lexer": "ipython2",
   "version": "2.7.6"
  }
 },
 "nbformat": 4,
 "nbformat_minor": 0
}
