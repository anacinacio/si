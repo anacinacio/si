{
 "cells": [
  {
   "cell_type": "markdown",
   "source": [
    "# AVALIAÇÃO 6"
   ],
   "metadata": {
    "collapsed": false
   }
  },
  {
   "cell_type": "markdown",
   "source": [
    "## Exercício 7\n",
    "Adiciona o modelo ensemble StackingClassifier\n",
    "\n",
    "Omodelo StackingClassifier usa um conjunto de modelos para gerar previsões. Estas previsões são depois usadas para treinar outro modelo, o modelo final. O modelo final pode depois ser usado para prever a variável de saída (Y)."
   ],
   "metadata": {
    "collapsed": false
   }
  },
  {
   "cell_type": "markdown",
   "source": [
    "7.1) Considera a estrutura do StackingClassifier apresentada nos slides seguintes seguintes\n",
    "\n",
    "7.2) Valida a tua implementação seguindo o protocolo:\n",
    "1. Usa o dataset breastbreast-bin.csv\n",
    "2. Usa o sklearn.preprocessing.StandardScaler para standardizarstandardizaros datasetdataset. breast_dataset.X X= StandardScalerStandardScaler(). fit_transform transform(breast_dataset.X X)\n",
    "3. Divide o dataset em treino e teste\n",
    "4. Cria o modelo KNNClassifier\n",
    "5. Cria o modelo LogisticRegression\n",
    "6. Cria um segundo modelo KNNClassifier (modelo\n",
    "7. Cria o modelo StackingClassifier usando os classificadores anteriores. O segundo modelo KNNClassifier deve ser usado como modelo final.\n",
    "8. Treina o modelo. Qual o score obtido?"
   ],
   "metadata": {
    "collapsed": false
   }
  },
  {
   "cell_type": "code",
   "execution_count": 1,
   "outputs": [],
   "source": [
    "import numpy as np\n",
    "import matplotlib.pyplot as plt\n",
    "\n",
    "from si.io.csv import read_csv\n",
    "from si.model_selection.split import train_test_split\n",
    "from si.linear_model.ridge_regression import RidgeRegression\n",
    "from si.linear_model.logistic_regression import LogisticRegression\n",
    "from si.neighbors.knn_classifier import KNNClassifier\n",
    "from si.ensemble.stacking_classifier import StackingClassifier"
   ],
   "metadata": {
    "collapsed": false
   }
  },
  {
   "cell_type": "code",
   "execution_count": 2,
   "outputs": [],
   "source": [
    "#dataset\n",
    "breast_dataset = read_csv('C:/Users/Carolina/Documents/GitHub/si/datasets/breast-bin.csv', sep=',',features=True, label=True)"
   ],
   "metadata": {
    "collapsed": false
   }
  },
  {
   "cell_type": "code",
   "execution_count": 3,
   "outputs": [
    {
     "data": {
      "text/plain": "array([[5., 1., 1., ..., 1., 1., 1.],\n       [2., 1., 1., ..., 2., 1., 1.],\n       [2., 1., 1., ..., 3., 1., 1.],\n       ...,\n       [5., 2., 2., ..., 1., 1., 2.],\n       [2., 3., 2., ..., 3., 1., 1.],\n       [7., 6., 6., ..., 7., 1., 1.]])"
     },
     "execution_count": 3,
     "metadata": {},
     "output_type": "execute_result"
    }
   ],
   "source": [
    "breast_dataset.X"
   ],
   "metadata": {
    "collapsed": false
   }
  },
  {
   "cell_type": "code",
   "execution_count": 4,
   "outputs": [],
   "source": [
    "#standardizar o dataset\n",
    "\n",
    "from sklearn import preprocessing\n",
    "breast_dataset.X= preprocessing.StandardScaler(). fit_transform(breast_dataset.X)"
   ],
   "metadata": {
    "collapsed": false
   }
  },
  {
   "cell_type": "code",
   "execution_count": 5,
   "outputs": [
    {
     "name": "stdout",
     "output_type": "stream",
     "text": [
      "(139, 9) (139, 9)\n",
      "(139,) (139,)\n"
     ]
    }
   ],
   "source": [
    "#dividir dataset em treino e teste\n",
    "breast_train, breast_test = train_test_split(breast_dataset)\n",
    "print(breast_train.X.shape, breast_test.X.shape)\n",
    "print(breast_train.y.shape, breast_test.y.shape)"
   ],
   "metadata": {
    "collapsed": false
   }
  },
  {
   "cell_type": "code",
   "execution_count": 6,
   "outputs": [],
   "source": [
    "#modelo KNNClassifier\n",
    "model_knn = KNNClassifier()"
   ],
   "metadata": {
    "collapsed": false
   }
  },
  {
   "cell_type": "code",
   "execution_count": 7,
   "outputs": [],
   "source": [
    "#modelo Logistic Regression\n",
    "model_log = LogisticRegression()"
   ],
   "metadata": {
    "collapsed": false
   }
  },
  {
   "cell_type": "code",
   "execution_count": 8,
   "outputs": [
    {
     "data": {
      "text/plain": "<si.neighbors.knn_classifier.KNNClassifier at 0x177bb50ce20>"
     },
     "execution_count": 8,
     "metadata": {},
     "output_type": "execute_result"
    }
   ],
   "source": [
    "#2 modelo KNNClassifier (modelo final)\n",
    "model_final = KNNClassifier(k=2)"
   ],
   "metadata": {
    "collapsed": false
   }
  },
  {
   "cell_type": "code",
   "execution_count": 9,
   "outputs": [],
   "source": [
    "#modelo StackingClassifier usando os classificadores anteriores. O segundo modelo KNNClassifier deve ser usado como modelo final.\n",
    "\n",
    "stacking_model = StackingClassifier([model_knn,model_log], model_final)"
   ],
   "metadata": {
    "collapsed": false
   }
  },
  {
   "cell_type": "code",
   "execution_count": 11,
   "outputs": [
    {
     "name": "stdout",
     "output_type": "stream",
     "text": [
      "0.9656160458452722\n"
     ]
    }
   ],
   "source": [
    "#treina o modelo.Qual o score obtido?\n",
    "\n",
    "stacking_model.fit(breast_train)\n",
    "print(stacking_model.score(breast_dataset))"
   ],
   "metadata": {
    "collapsed": false
   }
  }
 ],
 "metadata": {
  "kernelspec": {
   "display_name": "Python 3",
   "language": "python",
   "name": "python3"
  },
  "language_info": {
   "codemirror_mode": {
    "name": "ipython",
    "version": 2
   },
   "file_extension": ".py",
   "mimetype": "text/x-python",
   "name": "python",
   "nbconvert_exporter": "python",
   "pygments_lexer": "ipython2",
   "version": "2.7.6"
  }
 },
 "nbformat": 4,
 "nbformat_minor": 0
}
