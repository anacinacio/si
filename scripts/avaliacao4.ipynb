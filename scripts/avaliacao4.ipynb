{
 "cells": [
  {
   "cell_type": "markdown",
   "source": [
    "# AVALIAÇÃO 4\n",
    "## Implementar o KNNRegressor com RMSE"
   ],
   "metadata": {
    "collapsed": false
   }
  },
  {
   "cell_type": "markdown",
   "source": [
    "## Exercício 5\n",
    "Implementar o KNNRegressor com RMSE"
   ],
   "metadata": {
    "collapsed": false
   }
  },
  {
   "cell_type": "markdown",
   "source": [
    "5.1) Adiciona a métrica RMSE (RMQE em português) ao sub package metrics . Deves criar um módulo chamado rmse.py.\n",
    "\n",
    "from si.metrics.rmse import rmse\n",
    "\n",
    "5.2) Considera a estrutura da função rmse apresentada no diapositivo seguinte.\n",
    "Adiciona o objeto KNNRegressor ao sub package neighbors .\n",
    "Deves criar um módulo chamado knn_regressor.py para implementar este objeto.\n",
    "\n",
    "from si.neighbors.knn_regressor import KNNRegressor\n",
    "\n",
    "5.3) Considera a estrutura do objetoKNNRegressor apresentada no diapositivo seguinte.\n",
    "\n",
    "5.4) Podes testar o objeto KNNRegressor num jupyter notebook usando o dataset cpu.csv (regressão)"
   ],
   "metadata": {
    "collapsed": false
   }
  },
  {
   "cell_type": "markdown",
   "source": [
    "## Testar o objeto KNNRegressor"
   ],
   "metadata": {
    "collapsed": false
   }
  },
  {
   "cell_type": "code",
   "execution_count": 1,
   "outputs": [],
   "source": [
    "import numpy as np\n",
    "import matplotlib.pyplot as plt\n",
    "\n",
    "from si.data.dataset import Dataset\n",
    "from si.io.csv import read_csv\n",
    "from si.model_selection.split import train_test_split\n",
    "from si.metrics.accuracy import accuracy\n",
    "from si.metrics.rmse import rmse\n",
    "from si.neighbors.knn_regressor import KNNRegressor\n",
    "from si.statistics.euclidean_distance import euclidean_distance"
   ],
   "metadata": {
    "collapsed": false
   }
  },
  {
   "cell_type": "code",
   "execution_count": 2,
   "outputs": [],
   "source": [
    "cpu = read_csv('C:/Users/Carolina/Documents/GitHub/si/datasets/cpu.csv', sep=',',features=True, label=True)"
   ],
   "metadata": {
    "collapsed": false
   }
  },
  {
   "cell_type": "code",
   "execution_count": 3,
   "outputs": [],
   "source": [
    "train_dataset, test_dataset = train_test_split(cpu)"
   ],
   "metadata": {
    "collapsed": false
   }
  },
  {
   "cell_type": "code",
   "execution_count": 4,
   "outputs": [
    {
     "name": "stdout",
     "output_type": "stream",
     "text": [
      "[[   25  1310  2620   131    12    24]\n",
      " [  200  1000  4000     0     1     4]\n",
      " [  330  1000  4000     0     3     6]\n",
      " [   30  8000 64000    96    12   176]\n",
      " [  800   256  8000     0     1     4]\n",
      " [   38  8000 32000    64     8    24]\n",
      " [  133  1000  8000     9     3    12]\n",
      " [  240   512  1000     8     1     3]\n",
      " [   23 32000 64000   128    32    64]\n",
      " [   50  2000 32000    48    26    52]]\n"
     ]
    }
   ],
   "source": [
    "print(train_dataset.X[:10])"
   ],
   "metadata": {
    "collapsed": false
   }
  },
  {
   "cell_type": "code",
   "execution_count": 5,
   "outputs": [
    {
     "name": "stdout",
     "output_type": "stream",
     "text": [
      "[[   25  1310  2620   131    12    24]\n",
      " [  200  1000  4000     0     1     4]\n",
      " [  330  1000  4000     0     3     6]\n",
      " [   30  8000 64000    96    12   176]\n",
      " [  800   256  8000     0     1     4]\n",
      " [   38  8000 32000    64     8    24]\n",
      " [  133  1000  8000     9     3    12]\n",
      " [  240   512  1000     8     1     3]\n",
      " [   23 32000 64000   128    32    64]\n",
      " [   50  2000 32000    48    26    52]]\n"
     ]
    }
   ],
   "source": [
    "print(test_dataset.X[:10])"
   ],
   "metadata": {
    "collapsed": false
   }
  },
  {
   "cell_type": "code",
   "execution_count": 6,
   "outputs": [
    {
     "name": "stdout",
     "output_type": "stream",
     "text": [
      "[ 89.25  21.75  21.75 658.25  45.25 272.25  45.25  26.25 712.5  272.25\n",
      "  67.   109.25  47.    47.    67.5   90.5   49.5   33.75 118.   109.25\n",
      "  45.75  52.   109.25  21.75  25.5   47.    32.5   26.5   36.25  47.\n",
      " 272.25  26.5   52.5   32.5   33.75  53.75  45.25 311.75  67.5   21.75\n",
      " 272.25]\n",
      "89.78241822289718\n"
     ]
    }
   ],
   "source": [
    "k = 4\n",
    "kmeans = KNNRegressor(k)\n",
    "kmeans.fit(train_dataset)\n",
    "predictions = kmeans.predict(test_dataset)\n",
    "print(predictions)\n",
    "print(kmeans.score(test_dataset))"
   ],
   "metadata": {
    "collapsed": false
   }
  },
  {
   "cell_type": "code",
   "execution_count": 7,
   "outputs": [
    {
     "data": {
      "text/plain": "<si.neighbors.knn_regressor.KNNRegressor at 0x27fb54b9b50>"
     },
     "execution_count": 7,
     "metadata": {},
     "output_type": "execute_result"
    }
   ],
   "source": [
    "k = 3\n",
    "kmeans = KNNRegressor(k,euclidean_distance)\n",
    "kmeans.fit(train_dataset)"
   ],
   "metadata": {
    "collapsed": false
   }
  },
  {
   "cell_type": "code",
   "execution_count": 8,
   "outputs": [
    {
     "data": {
      "text/plain": "63.97130538983187"
     },
     "execution_count": 8,
     "metadata": {},
     "output_type": "execute_result"
    }
   ],
   "source": [
    "kmeans.score(test_dataset)"
   ],
   "metadata": {
    "collapsed": false
   }
  },
  {
   "cell_type": "code",
   "execution_count": 8,
   "outputs": [],
   "source": [],
   "metadata": {
    "collapsed": false
   }
  }
 ],
 "metadata": {
  "kernelspec": {
   "display_name": "Python 3",
   "language": "python",
   "name": "python3"
  },
  "language_info": {
   "codemirror_mode": {
    "name": "ipython",
    "version": 2
   },
   "file_extension": ".py",
   "mimetype": "text/x-python",
   "name": "python",
   "nbconvert_exporter": "python",
   "pygments_lexer": "ipython2",
   "version": "2.7.6"
  }
 },
 "nbformat": 4,
 "nbformat_minor": 0
}
