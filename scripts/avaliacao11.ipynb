{
 "cells": [
  {
   "cell_type": "markdown",
   "source": [
    "# AVALIAÇÃO 11"
   ],
   "metadata": {
    "collapsed": false
   }
  },
  {
   "cell_type": "code",
   "execution_count": 1,
   "outputs": [],
   "source": [
    "import numpy as np\n",
    "import matplotlib.pyplot as plt\n",
    "from sklearn import preprocessing\n",
    "\n",
    "from src.si.data.dataset import Dataset\n",
    "from src.si.io.csv import read_csv\n",
    "from src.si.neuralnets.nn import NN\n",
    "from src.si.neuralnets.layer import Dense, SigmoidActivation,SoftMaxActivation, ReLUActivation, LinearActivation\n",
    "from src.si.linear_model.ridge_regression import RidgeRegression\n",
    "from src.si.linear_model.logistic_regression import LogisticRegression\n",
    "from src.si.metrics.cross_entropy import cross_entropy, cross_entropy_derivative\n",
    "from src.si.metrics.accuracy import accuracy\n",
    "from src.si.metrics.mse import mse, mse_derivative\n",
    "from src.si.model_selection.split import train_test_split\n"
   ],
   "metadata": {
    "collapsed": false
   }
  },
  {
   "cell_type": "markdown",
   "source": [
    "## Exercício 12\n",
    "Redes neuronais e Backpropagation"
   ],
   "metadata": {
    "collapsed": false
   }
  },
  {
   "cell_type": "markdown",
   "source": [
    "12.1) Implementa o método de backward propagation da ReLUActivation layer.\n",
    "- Considera o seguinte para a propagação do erro numa layer de ativação ReLU:\n",
    "• Substituir valores de erro superiores a 0 por 1\n",
    "• Substituir valores de erro inferiores a 0 por 0\n",
    "• Multiplicação elemento a elemento entre o erro e os valores anteriores"
   ],
   "metadata": {
    "collapsed": false
   }
  },
  {
   "cell_type": "code",
   "execution_count": 20,
   "outputs": [],
   "source": [
    "from si.neuralnets.layer import ReLUActivation"
   ],
   "metadata": {
    "collapsed": false
   }
  },
  {
   "cell_type": "markdown",
   "source": [
    "12.2) Constrói um modelo de redes neuronais adequado\n",
    "ao dataset breast-bin.csv."
   ],
   "metadata": {
    "collapsed": false
   }
  },
  {
   "cell_type": "code",
   "execution_count": 2,
   "outputs": [],
   "source": [
    "#dataset\n",
    "breast_dataset = read_csv('C:/Users/Carolina/Documents/GitHub/si/datasets/breast-bin.csv', sep=',',features=True, label=True)"
   ],
   "metadata": {
    "collapsed": false
   }
  },
  {
   "cell_type": "code",
   "execution_count": 3,
   "outputs": [
    {
     "data": {
      "text/plain": "array([[5., 1., 1., ..., 1., 1., 1.],\n       [2., 1., 1., ..., 2., 1., 1.],\n       [2., 1., 1., ..., 3., 1., 1.],\n       ...,\n       [5., 2., 2., ..., 1., 1., 2.],\n       [2., 3., 2., ..., 3., 1., 1.],\n       [7., 6., 6., ..., 7., 1., 1.]])"
     },
     "execution_count": 3,
     "metadata": {},
     "output_type": "execute_result"
    }
   ],
   "source": [
    "breast_dataset.X"
   ],
   "metadata": {
    "collapsed": false
   }
  },
  {
   "cell_type": "code",
   "execution_count": 4,
   "outputs": [
    {
     "data": {
      "text/plain": "array([0., 0., 0., 1., 0., 0., 0., 0., 1., 0.])"
     },
     "execution_count": 4,
     "metadata": {},
     "output_type": "execute_result"
    }
   ],
   "source": [
    "breast_dataset.y[:10]"
   ],
   "metadata": {
    "collapsed": false
   }
  },
  {
   "cell_type": "code",
   "execution_count": 5,
   "outputs": [],
   "source": [
    "#standardizar o dataset\n",
    "breast_dataset.X= preprocessing.StandardScaler().fit_transform(breast_dataset.X)"
   ],
   "metadata": {
    "collapsed": false
   }
  },
  {
   "cell_type": "code",
   "execution_count": 6,
   "outputs": [],
   "source": [
    "breast_train, breast_test = train_test_split(breast_dataset, test_size=0.3)"
   ],
   "metadata": {
    "collapsed": false
   }
  },
  {
   "cell_type": "code",
   "execution_count": 7,
   "outputs": [],
   "source": [
    "#dividir dataset em treino e teste\n",
    "breast_train, breast_test = train_test_split(breast_dataset)"
   ],
   "metadata": {
    "collapsed": false
   }
  },
  {
   "cell_type": "code",
   "execution_count": 8,
   "outputs": [
    {
     "name": "stdout",
     "output_type": "stream",
     "text": [
      "(559, 9)\n",
      "(139, 9)\n"
     ]
    }
   ],
   "source": [
    "print(breast_train.shape())\n",
    "print(breast_test.shape())"
   ],
   "metadata": {
    "collapsed": false
   }
  },
  {
   "cell_type": "code",
   "execution_count": 9,
   "outputs": [],
   "source": [
    "# 3 layers com sigmoid activation\n",
    "\n",
    "l1_bin = Dense(input_size = 9, output_size=9)\n",
    "l2_bin = Dense(input_size = 9, output_size=4)\n",
    "l3_bin = Dense(input_size = 4, output_size=1)\n",
    "\n",
    "l1_bin_rla = ReLUActivation()\n",
    "l2_bin_rla = ReLUActivation()\n",
    "l3_bin_sa = SigmoidActivation()\n",
    "\n",
    "model_bin = NN([ l1_bin, l1_bin_rla, l2_bin, l2_bin_rla, l3_bin, l3_bin_sa], cross_entropy, cross_entropy_derivative, True)"
   ],
   "metadata": {
    "collapsed": false
   }
  },
  {
   "cell_type": "code",
   "execution_count": 10,
   "outputs": [
    {
     "data": {
      "text/plain": "<src.si.neuralnets.nn.NN at 0x28382e03f70>"
     },
     "execution_count": 10,
     "metadata": {},
     "output_type": "execute_result"
    }
   ],
   "source": [
    "model_bin.fit(dataset=breast_train)"
   ],
   "metadata": {
    "collapsed": false
   }
  },
  {
   "cell_type": "code",
   "execution_count": 19,
   "outputs": [
    {
     "data": {
      "text/plain": "array([[0.50000022],\n       [0.49999768],\n       [0.49999975],\n       [0.49999971],\n       [0.49999972],\n       [0.49999997],\n       [0.50000038],\n       [0.50000031],\n       [0.49999954],\n       [0.4999985 ],\n       [0.49999908],\n       [0.50000038],\n       [0.4999964 ],\n       [0.49999977],\n       [0.49999982],\n       [0.49999905],\n       [0.49999985],\n       [0.50000038],\n       [0.49999787],\n       [0.49999725],\n       [0.4999999 ],\n       [0.49999987],\n       [0.49999985],\n       [0.49999781],\n       [0.49999835],\n       [0.49999942],\n       [0.50000035],\n       [0.50000032],\n       [0.49999985],\n       [0.49999854],\n       [0.49999971],\n       [0.50000009],\n       [0.49999892],\n       [0.49999975],\n       [0.49999937],\n       [0.49999948],\n       [0.49999659],\n       [0.49999947],\n       [0.49999805],\n       [0.49999774],\n       [0.49999926],\n       [0.49999737],\n       [0.49999795],\n       [0.49999756],\n       [0.4999987 ],\n       [0.49999946],\n       [0.49999765],\n       [0.50000033],\n       [0.4999998 ],\n       [0.49999971],\n       [0.49999848],\n       [0.49999721],\n       [0.49999829],\n       [0.49999788],\n       [0.49999928],\n       [0.49999985],\n       [0.49999683],\n       [0.50000032],\n       [0.4999999 ],\n       [0.50000022],\n       [0.5       ],\n       [0.49999998],\n       [0.50000039],\n       [0.49999803],\n       [0.49999999],\n       [0.49999961],\n       [0.49999989],\n       [0.49999937],\n       [0.49999481],\n       [0.50000017],\n       [0.50000023],\n       [0.50000035],\n       [0.49999986],\n       [0.50000004],\n       [0.50000036],\n       [0.49999641],\n       [0.49999897],\n       [0.49999718],\n       [0.4999975 ],\n       [0.49999693],\n       [0.49999987],\n       [0.49999819],\n       [0.49999908],\n       [0.4999987 ],\n       [0.49999866],\n       [0.50000036],\n       [0.49999914],\n       [0.5       ],\n       [0.49999853],\n       [0.49999508],\n       [0.49999997],\n       [0.49999861],\n       [0.49999922],\n       [0.50000047],\n       [0.49999974],\n       [0.50000045],\n       [0.50000029],\n       [0.49999875],\n       [0.49999869],\n       [0.49999853],\n       [0.50000033],\n       [0.50000035],\n       [0.5       ],\n       [0.50000045],\n       [0.49999901],\n       [0.49999775],\n       [0.49999857],\n       [0.49999782],\n       [0.5       ],\n       [0.49999766],\n       [0.4999987 ],\n       [0.49999938],\n       [0.50000031],\n       [0.50000013],\n       [0.49999858],\n       [0.50000022],\n       [0.49999862],\n       [0.49999975],\n       [0.49999862],\n       [0.4999999 ],\n       [0.50000036],\n       [0.49999568],\n       [0.49999907],\n       [0.50000025],\n       [0.50000033],\n       [0.49999985],\n       [0.49999998],\n       [0.49999983],\n       [0.49999676],\n       [0.4999993 ],\n       [0.49999961],\n       [0.50000035],\n       [0.49999919],\n       [0.49999905],\n       [0.50000035],\n       [0.50000006],\n       [0.49999961],\n       [0.49999817],\n       [0.50000022],\n       [0.49999922],\n       [0.4999993 ],\n       [0.50000039],\n       [0.49999864],\n       [0.49999862],\n       [0.49999991],\n       [0.50000038],\n       [0.49999877],\n       [0.50000009],\n       [0.49999987],\n       [0.49999774],\n       [0.50000035],\n       [0.5000003 ],\n       [0.4999987 ],\n       [0.5       ],\n       [0.50000041],\n       [0.49999797],\n       [0.5000003 ],\n       [0.49999646],\n       [0.49999859],\n       [0.50000035],\n       [0.50000033],\n       [0.50000031],\n       [0.49999885],\n       [0.4999972 ],\n       [0.49999871],\n       [0.5000002 ],\n       [0.49999997],\n       [0.49999977],\n       [0.50000006],\n       [0.50000022],\n       [0.49999961],\n       [0.49999971],\n       [0.49999997],\n       [0.49999628],\n       [0.49999873],\n       [0.49999985],\n       [0.49999906],\n       [0.4999978 ],\n       [0.50000035],\n       [0.49999998],\n       [0.49999975],\n       [0.50000022],\n       [0.50000014],\n       [0.49999709],\n       [0.50000015],\n       [0.49999984],\n       [0.49999787],\n       [0.50000003],\n       [0.49999922],\n       [0.49999985],\n       [0.50000036],\n       [0.50000035],\n       [0.49999776],\n       [0.50000038],\n       [0.50000036],\n       [0.49999718],\n       [0.49999582],\n       [0.5000003 ],\n       [0.4999984 ],\n       [0.4999999 ],\n       [0.50000045],\n       [0.50000035],\n       [0.49999965],\n       [0.50000038],\n       [0.50000039],\n       [0.50000019],\n       [0.50000033],\n       [0.49999792],\n       [0.49999943],\n       [0.50000038],\n       [0.49999974],\n       [0.50000022],\n       [0.4999988 ],\n       [0.50000051],\n       [0.49999923],\n       [0.50000038],\n       [0.50000039],\n       [0.49999992],\n       [0.50000022],\n       [0.50000039],\n       [0.50000038],\n       [0.49999704],\n       [0.49999843],\n       [0.49999933],\n       [0.49999654],\n       [0.50000023],\n       [0.49999976],\n       [0.49999625],\n       [0.49999876],\n       [0.49999985],\n       [0.49999604],\n       [0.49999797],\n       [0.50000033],\n       [0.50000015],\n       [0.49999481],\n       [0.50000022],\n       [0.49999985],\n       [0.49999748],\n       [0.50000035],\n       [0.50000038],\n       [0.49999991],\n       [0.49999906],\n       [0.49999984],\n       [0.49999922],\n       [0.49999829],\n       [0.49999943],\n       [0.50000035],\n       [0.50000008],\n       [0.4999999 ],\n       [0.50000022],\n       [0.50000022],\n       [0.50000034],\n       [0.49999812],\n       [0.50000039],\n       [0.50000025],\n       [0.49999785],\n       [0.49999868],\n       [0.49999587],\n       [0.50000009],\n       [0.50000034],\n       [0.49999939],\n       [0.49999961],\n       [0.4999975 ],\n       [0.50000038],\n       [0.4999988 ],\n       [0.49999975],\n       [0.50000009],\n       [0.49999915],\n       [0.4999988 ],\n       [0.49999965],\n       [0.49999937],\n       [0.49999887],\n       [0.50000002],\n       [0.49999914],\n       [0.49999776],\n       [0.50000035],\n       [0.49999935],\n       [0.49999961],\n       [0.50000031],\n       [0.50000014],\n       [0.4999946 ],\n       [0.50000045],\n       [0.4999984 ],\n       [0.50000014],\n       [0.50000024],\n       [0.4999997 ],\n       [0.4999992 ],\n       [0.50000045],\n       [0.49999855],\n       [0.49999949],\n       [0.50000003],\n       [0.49999901],\n       [0.50000019],\n       [0.49999815],\n       [0.50000019],\n       [0.49999858],\n       [0.49999948],\n       [0.4999969 ],\n       [0.50000003],\n       [0.50000033],\n       [0.49999481],\n       [0.50000044],\n       [0.49999505],\n       [0.50000035],\n       [0.50000038],\n       [0.49999834],\n       [0.49999883],\n       [0.49999915],\n       [0.50000031],\n       [0.49999951],\n       [0.50000006],\n       [0.50000034],\n       [0.49999606],\n       [0.49999834],\n       [0.50000009],\n       [0.49999948],\n       [0.50000022],\n       [0.49999896],\n       [0.50000038],\n       [0.49999586],\n       [0.49999704],\n       [0.49999829],\n       [0.49999783],\n       [0.49999749],\n       [0.4999982 ],\n       [0.50000008],\n       [0.49999963],\n       [0.50000009],\n       [0.50000022],\n       [0.49999837],\n       [0.50000036],\n       [0.49999761],\n       [0.50000023],\n       [0.50000035],\n       [0.50000009],\n       [0.49999498],\n       [0.5000001 ],\n       [0.49999593],\n       [0.50000043],\n       [0.49999882],\n       [0.49999991],\n       [0.50000009],\n       [0.49999976],\n       [0.49999763],\n       [0.50000036],\n       [0.49999904],\n       [0.50000038],\n       [0.50000022],\n       [0.49999924],\n       [0.49999934],\n       [0.49999988],\n       [0.49999884],\n       [0.50000024],\n       [0.49999729],\n       [0.49999718],\n       [0.50000011],\n       [0.50000009],\n       [0.50000039],\n       [0.49999997],\n       [0.49999969],\n       [0.49999858],\n       [0.50000029],\n       [0.49999818],\n       [0.5000002 ],\n       [0.50000008],\n       [0.49999997],\n       [0.49999817],\n       [0.49999997],\n       [0.50000044],\n       [0.49999961],\n       [0.50000004],\n       [0.49999835],\n       [0.50000014],\n       [0.50000022],\n       [0.49999965],\n       [0.49999996],\n       [0.49999978],\n       [0.49999847],\n       [0.50000009],\n       [0.49999804],\n       [0.49999961],\n       [0.4999999 ],\n       [0.4999993 ],\n       [0.50000022],\n       [0.49999854],\n       [0.49999916],\n       [0.49999411],\n       [0.50000035],\n       [0.50000022],\n       [0.49999719],\n       [0.49999858],\n       [0.5000003 ],\n       [0.49999996],\n       [0.49999684],\n       [0.49999937],\n       [0.49999937],\n       [0.49999772],\n       [0.49999881],\n       [0.49999931],\n       [0.49999984],\n       [0.49999987],\n       [0.49999961],\n       [0.49999941],\n       [0.50000004],\n       [0.49999833],\n       [0.49999973],\n       [0.49999961],\n       [0.4999997 ],\n       [0.49999931],\n       [0.50000035],\n       [0.50000027],\n       [0.50000029],\n       [0.50000031],\n       [0.49999881],\n       [0.49999648],\n       [0.4999999 ],\n       [0.50000014],\n       [0.49999734],\n       [0.49999819],\n       [0.49999876],\n       [0.49999848],\n       [0.4999987 ],\n       [0.49999937],\n       [0.49999536],\n       [0.49999989],\n       [0.49999981],\n       [0.49999968],\n       [0.49999788],\n       [0.50000031],\n       [0.50000017],\n       [0.49999975],\n       [0.49999836],\n       [0.50000009],\n       [0.50000022],\n       [0.4999987 ],\n       [0.49999961],\n       [0.49999811],\n       [0.50000034],\n       [0.49999956],\n       [0.49999826],\n       [0.49999693],\n       [0.49999595],\n       [0.50000011],\n       [0.49999961],\n       [0.49999799],\n       [0.50000022],\n       [0.49999942],\n       [0.50000036],\n       [0.50000006],\n       [0.49999922],\n       [0.49999975],\n       [0.49999399],\n       [0.49999922],\n       [0.50000034],\n       [0.49999859],\n       [0.49999935],\n       [0.49999855],\n       [0.49999815],\n       [0.49999829],\n       [0.49999922],\n       [0.50000028],\n       [0.49999946],\n       [0.49999835],\n       [0.49999987],\n       [0.4999978 ],\n       [0.50000033],\n       [0.49999838],\n       [0.50000013],\n       [0.50000035],\n       [0.49999818],\n       [0.49999906],\n       [0.49999889],\n       [0.50000038],\n       [0.49999926],\n       [0.50000014],\n       [0.49999971],\n       [0.49999889],\n       [0.50000024],\n       [0.50000035],\n       [0.49999707],\n       [0.50000038],\n       [0.50000031],\n       [0.49999837],\n       [0.50000035],\n       [0.49999979],\n       [0.49999954],\n       [0.49999705],\n       [0.49999937],\n       [0.49999997],\n       [0.49999687],\n       [0.49999937],\n       [0.50000011],\n       [0.50000011],\n       [0.49999978],\n       [0.50000028],\n       [0.49999923],\n       [0.49999965],\n       [0.49999978],\n       [0.49999922],\n       [0.49999894],\n       [0.49999961],\n       [0.50000045],\n       [0.50000038],\n       [0.4999989 ],\n       [0.49999832],\n       [0.49999937],\n       [0.49999995],\n       [0.50000002],\n       [0.49999778],\n       [0.50000038],\n       [0.49999966],\n       [0.49999684],\n       [0.49999971],\n       [0.49999835],\n       [0.50000038],\n       [0.49999961],\n       [0.49999961],\n       [0.49999686],\n       [0.49999799],\n       [0.50000011],\n       [0.49999595],\n       [0.50000017],\n       [0.49999955],\n       [0.50000034],\n       [0.49999961],\n       [0.49999789],\n       [0.49999975],\n       [0.49999973],\n       [0.49999908],\n       [0.49999793],\n       [0.50000039],\n       [0.4999987 ],\n       [0.50000038],\n       [0.49999901],\n       [0.50000022],\n       [0.50000035],\n       [0.50000009],\n       [0.49999975],\n       [0.50000009],\n       [0.50000022],\n       [0.49999565],\n       [0.49999606],\n       [0.5000003 ],\n       [0.49999834],\n       [0.50000036],\n       [0.49999985],\n       [0.4999969 ],\n       [0.49999887],\n       [0.49999949],\n       [0.50000021],\n       [0.50000022],\n       [0.49999937],\n       [0.4999998 ],\n       [0.50000009],\n       [0.49999924],\n       [0.49999833],\n       [0.50000025],\n       [0.50000029],\n       [0.49999666]])"
     },
     "execution_count": 19,
     "metadata": {},
     "output_type": "execute_result"
    }
   ],
   "source": [
    "model_bin.predict(breast_train)"
   ],
   "metadata": {
    "collapsed": false
   }
  },
  {
   "cell_type": "markdown",
   "source": [
    "12.3) Constrói um modelo de redes neuronais adequado\n",
    "ao dataset cpu.csv."
   ],
   "metadata": {
    "collapsed": false
   }
  },
  {
   "cell_type": "code",
   "execution_count": 11,
   "outputs": [],
   "source": [
    "cpu = read_csv('C:/Users/Carolina/Documents/GitHub/si/datasets/cpu.csv', sep=',',features=True, label=True)"
   ],
   "metadata": {
    "collapsed": false
   }
  },
  {
   "cell_type": "code",
   "execution_count": 12,
   "outputs": [
    {
     "data": {
      "text/plain": "array([ 198,  269,  220,  172,  132,  318,  367,  489,  636, 1144],\n      dtype=int64)"
     },
     "execution_count": 12,
     "metadata": {},
     "output_type": "execute_result"
    }
   ],
   "source": [
    "cpu.y[:10]"
   ],
   "metadata": {
    "collapsed": false
   }
  },
  {
   "cell_type": "code",
   "execution_count": 13,
   "outputs": [],
   "source": [
    "cpu.X = preprocessing.StandardScaler().fit_transform(cpu.X)\n",
    "cpu_train, cpu_test = train_test_split(cpu, test_size=0.3)"
   ],
   "metadata": {
    "collapsed": false
   }
  },
  {
   "cell_type": "code",
   "execution_count": 14,
   "outputs": [
    {
     "name": "stdout",
     "output_type": "stream",
     "text": [
      "(147, 6)\n",
      "(62, 6)\n"
     ]
    }
   ],
   "source": [
    "print(cpu_train.shape())\n",
    "print(cpu_test.shape())"
   ],
   "metadata": {
    "collapsed": false
   }
  },
  {
   "cell_type": "code",
   "execution_count": 15,
   "outputs": [],
   "source": [
    "# 3 layers com ReLUActivation\n",
    "\n",
    "l1_reg = Dense(input_size = 6, output_size=6)\n",
    "l2_reg = Dense(input_size = 6, output_size=4)\n",
    "l3_reg = Dense(input_size = 4, output_size=1)\n",
    "\n",
    "l1_reg_rlua = ReLUActivation()\n",
    "l2_reg_rlua = ReLUActivation()\n",
    "\n",
    "model_reg = NN(layers=[l1_reg_rlua, l2_reg, l2_reg_rlua, l3_reg], loss_function=cross_entropy, loss_derivation=cross_entropy_derivative, verbose=True)"
   ],
   "metadata": {
    "collapsed": false
   }
  },
  {
   "cell_type": "code",
   "execution_count": 16,
   "outputs": [
    {
     "data": {
      "text/plain": "<src.si.neuralnets.nn.NN at 0x28382e0b760>"
     },
     "execution_count": 16,
     "metadata": {},
     "output_type": "execute_result"
    }
   ],
   "source": [
    "model_reg.fit(dataset=cpu_train)"
   ],
   "metadata": {
    "collapsed": false
   }
  },
  {
   "cell_type": "code",
   "execution_count": 17,
   "outputs": [],
   "source": [
    "pred = model_reg.predict(dataset=cpu_test)"
   ],
   "metadata": {
    "collapsed": false
   }
  },
  {
   "cell_type": "code",
   "execution_count": 18,
   "outputs": [
    {
     "name": "stdout",
     "output_type": "stream",
     "text": [
      "2452702.267710159\n"
     ]
    }
   ],
   "source": [
    "score = mse(cpu_test.y,pred)\n",
    "print(score)"
   ],
   "metadata": {
    "collapsed": false
   }
  },
  {
   "cell_type": "markdown",
   "source": [],
   "metadata": {
    "collapsed": false
   }
  }
 ],
 "metadata": {
  "kernelspec": {
   "display_name": "Python 3",
   "language": "python",
   "name": "python3"
  },
  "language_info": {
   "codemirror_mode": {
    "name": "ipython",
    "version": 2
   },
   "file_extension": ".py",
   "mimetype": "text/x-python",
   "name": "python",
   "nbconvert_exporter": "python",
   "pygments_lexer": "ipython2",
   "version": "2.7.6"
  }
 },
 "nbformat": 4,
 "nbformat_minor": 0
}
