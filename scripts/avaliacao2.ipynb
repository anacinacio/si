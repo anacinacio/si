{
 "cells": [
  {
   "cell_type": "markdown",
   "source": [
    "# AVALIAÇÃO 2\n",
    "Exercício 3"
   ],
   "metadata": {
    "collapsed": false
   }
  },
  {
   "cell_type": "markdown",
   "source": [
    "## Exercício 3\n",
    "Implementar o SelectPercentile"
   ],
   "metadata": {
    "collapsed": false
   }
  },
  {
   "cell_type": "markdown",
   "source": [
    "3.1) Adiciona o objeto SelectPercentile ao sub-package feature_selection. Deves criar um módulo chamado select_percentile.py para implementar este objeto\n",
    "3.2) A class SelectPercentile tem uma arquitetura semelhante à classe SelectKBest. Considera a estrutura apresentada no diapositivo seguinte.\n",
    "3.3) Podes testar a class SelectPercentile num jupyter notebook usando o dataset iris.csv (classificação) e o dataset cpu.csv (regressão)"
   ],
   "metadata": {
    "collapsed": false
   }
  },
  {
   "cell_type": "code",
   "execution_count": 11,
   "outputs": [],
   "source": [
    "import numpy as np\n",
    "import pandas as pd"
   ],
   "metadata": {
    "collapsed": false
   }
  },
  {
   "cell_type": "code",
   "execution_count": 12,
   "outputs": [],
   "source": [
    "from src.si.io.csv import read_csv\n",
    "from src.si.data.dataset import Dataset\n",
    "from src.si.feature_selection.variance_threshold import VarianceThreshold\n",
    "from src.si.feature_selection.select_k_best import SelectKBest\n",
    "from src.si.statistics.f_classification import f_classification\n",
    "from src.si.feature_selection.select_percentile import SelectPercentile"
   ],
   "metadata": {
    "collapsed": false
   }
  },
  {
   "cell_type": "code",
   "execution_count": 13,
   "outputs": [],
   "source": [
    "iris_dataset = read_csv(\"C:/Users/Carolina/Documents/GitHub/si/datasets/iris.csv\", sep=',',features=True, label=True)"
   ],
   "metadata": {
    "collapsed": false
   }
  },
  {
   "cell_type": "code",
   "execution_count": 14,
   "outputs": [
    {
     "data": {
      "text/plain": "['sepal_length', 'sepal_width', 'petal_length', 'petal_width']"
     },
     "execution_count": 14,
     "metadata": {},
     "output_type": "execute_result"
    }
   ],
   "source": [
    "iris_dataset.features"
   ],
   "metadata": {
    "collapsed": false
   }
  },
  {
   "cell_type": "code",
   "execution_count": 15,
   "outputs": [
    {
     "data": {
      "text/plain": "array([[5.1, 3.5, 1.4, 0.2],\n       [4.9, 3. , 1.4, 0.2],\n       [4.7, 3.2, 1.3, 0.2],\n       [4.6, 3.1, 1.5, 0.2],\n       [5. , 3.6, 1.4, 0.2]])"
     },
     "execution_count": 15,
     "metadata": {},
     "output_type": "execute_result"
    }
   ],
   "source": [
    "iris_dataset = read_csv(\"C:/Users/Carolina/Documents/GitHub/si/datasets/iris.csv\", sep=',',features=True, label=True)\n",
    "\n",
    "iris_dataset.X[:5]"
   ],
   "metadata": {
    "collapsed": false
   }
  },
  {
   "cell_type": "code",
   "execution_count": 16,
   "outputs": [
    {
     "data": {
      "text/plain": "(150, 3)"
     },
     "execution_count": 16,
     "metadata": {},
     "output_type": "execute_result"
    }
   ],
   "source": [
    "# Variance Threshold\n",
    "var_threshold = VarianceThreshold(0.5)\n",
    "var_threshold.fit(iris_dataset)\n",
    "transformed_dataset = var_threshold.transform(iris_dataset)\n",
    "transformed_dataset.shape()"
   ],
   "metadata": {
    "collapsed": false
   }
  },
  {
   "cell_type": "code",
   "execution_count": 17,
   "outputs": [
    {
     "data": {
      "text/plain": "array([[5.1, 1.4, 0.2],\n       [4.9, 1.4, 0.2],\n       [4.7, 1.3, 0.2],\n       [4.6, 1.5, 0.2],\n       [5. , 1.4, 0.2],\n       [5.4, 1.7, 0.4],\n       [4.6, 1.4, 0.3],\n       [5. , 1.5, 0.2],\n       [4.4, 1.4, 0.2],\n       [4.9, 1.5, 0.1],\n       [5.4, 1.5, 0.2],\n       [4.8, 1.6, 0.2],\n       [4.8, 1.4, 0.1],\n       [4.3, 1.1, 0.1],\n       [5.8, 1.2, 0.2],\n       [5.7, 1.5, 0.4],\n       [5.4, 1.3, 0.4],\n       [5.1, 1.4, 0.3],\n       [5.7, 1.7, 0.3],\n       [5.1, 1.5, 0.3],\n       [5.4, 1.7, 0.2],\n       [5.1, 1.5, 0.4],\n       [4.6, 1. , 0.2],\n       [5.1, 1.7, 0.5],\n       [4.8, 1.9, 0.2],\n       [5. , 1.6, 0.2],\n       [5. , 1.6, 0.4],\n       [5.2, 1.5, 0.2],\n       [5.2, 1.4, 0.2],\n       [4.7, 1.6, 0.2],\n       [4.8, 1.6, 0.2],\n       [5.4, 1.5, 0.4],\n       [5.2, 1.5, 0.1],\n       [5.5, 1.4, 0.2],\n       [4.9, 1.5, 0.1],\n       [5. , 1.2, 0.2],\n       [5.5, 1.3, 0.2],\n       [4.9, 1.5, 0.1],\n       [4.4, 1.3, 0.2],\n       [5.1, 1.5, 0.2],\n       [5. , 1.3, 0.3],\n       [4.5, 1.3, 0.3],\n       [4.4, 1.3, 0.2],\n       [5. , 1.6, 0.6],\n       [5.1, 1.9, 0.4],\n       [4.8, 1.4, 0.3],\n       [5.1, 1.6, 0.2],\n       [4.6, 1.4, 0.2],\n       [5.3, 1.5, 0.2],\n       [5. , 1.4, 0.2],\n       [7. , 4.7, 1.4],\n       [6.4, 4.5, 1.5],\n       [6.9, 4.9, 1.5],\n       [5.5, 4. , 1.3],\n       [6.5, 4.6, 1.5],\n       [5.7, 4.5, 1.3],\n       [6.3, 4.7, 1.6],\n       [4.9, 3.3, 1. ],\n       [6.6, 4.6, 1.3],\n       [5.2, 3.9, 1.4],\n       [5. , 3.5, 1. ],\n       [5.9, 4.2, 1.5],\n       [6. , 4. , 1. ],\n       [6.1, 4.7, 1.4],\n       [5.6, 3.6, 1.3],\n       [6.7, 4.4, 1.4],\n       [5.6, 4.5, 1.5],\n       [5.8, 4.1, 1. ],\n       [6.2, 4.5, 1.5],\n       [5.6, 3.9, 1.1],\n       [5.9, 4.8, 1.8],\n       [6.1, 4. , 1.3],\n       [6.3, 4.9, 1.5],\n       [6.1, 4.7, 1.2],\n       [6.4, 4.3, 1.3],\n       [6.6, 4.4, 1.4],\n       [6.8, 4.8, 1.4],\n       [6.7, 5. , 1.7],\n       [6. , 4.5, 1.5],\n       [5.7, 3.5, 1. ],\n       [5.5, 3.8, 1.1],\n       [5.5, 3.7, 1. ],\n       [5.8, 3.9, 1.2],\n       [6. , 5.1, 1.6],\n       [5.4, 4.5, 1.5],\n       [6. , 4.5, 1.6],\n       [6.7, 4.7, 1.5],\n       [6.3, 4.4, 1.3],\n       [5.6, 4.1, 1.3],\n       [5.5, 4. , 1.3],\n       [5.5, 4.4, 1.2],\n       [6.1, 4.6, 1.4],\n       [5.8, 4. , 1.2],\n       [5. , 3.3, 1. ],\n       [5.6, 4.2, 1.3],\n       [5.7, 4.2, 1.2],\n       [5.7, 4.2, 1.3],\n       [6.2, 4.3, 1.3],\n       [5.1, 3. , 1.1],\n       [5.7, 4.1, 1.3],\n       [6.3, 6. , 2.5],\n       [5.8, 5.1, 1.9],\n       [7.1, 5.9, 2.1],\n       [6.3, 5.6, 1.8],\n       [6.5, 5.8, 2.2],\n       [7.6, 6.6, 2.1],\n       [4.9, 4.5, 1.7],\n       [7.3, 6.3, 1.8],\n       [6.7, 5.8, 1.8],\n       [7.2, 6.1, 2.5],\n       [6.5, 5.1, 2. ],\n       [6.4, 5.3, 1.9],\n       [6.8, 5.5, 2.1],\n       [5.7, 5. , 2. ],\n       [5.8, 5.1, 2.4],\n       [6.4, 5.3, 2.3],\n       [6.5, 5.5, 1.8],\n       [7.7, 6.7, 2.2],\n       [7.7, 6.9, 2.3],\n       [6. , 5. , 1.5],\n       [6.9, 5.7, 2.3],\n       [5.6, 4.9, 2. ],\n       [7.7, 6.7, 2. ],\n       [6.3, 4.9, 1.8],\n       [6.7, 5.7, 2.1],\n       [7.2, 6. , 1.8],\n       [6.2, 4.8, 1.8],\n       [6.1, 4.9, 1.8],\n       [6.4, 5.6, 2.1],\n       [7.2, 5.8, 1.6],\n       [7.4, 6.1, 1.9],\n       [7.9, 6.4, 2. ],\n       [6.4, 5.6, 2.2],\n       [6.3, 5.1, 1.5],\n       [6.1, 5.6, 1.4],\n       [7.7, 6.1, 2.3],\n       [6.3, 5.6, 2.4],\n       [6.4, 5.5, 1.8],\n       [6. , 4.8, 1.8],\n       [6.9, 5.4, 2.1],\n       [6.7, 5.6, 2.4],\n       [6.9, 5.1, 2.3],\n       [5.8, 5.1, 1.9],\n       [6.8, 5.9, 2.3],\n       [6.7, 5.7, 2.5],\n       [6.7, 5.2, 2.3],\n       [6.3, 5. , 1.9],\n       [6.5, 5.2, 2. ],\n       [6.2, 5.4, 2.3],\n       [5.9, 5.1, 1.8]])"
     },
     "execution_count": 17,
     "metadata": {},
     "output_type": "execute_result"
    }
   ],
   "source": [
    "transformed_dataset.X"
   ],
   "metadata": {
    "collapsed": false
   }
  },
  {
   "cell_type": "code",
   "execution_count": 18,
   "outputs": [
    {
     "data": {
      "text/plain": "['petal_width', 'petal_length']"
     },
     "execution_count": 18,
     "metadata": {},
     "output_type": "execute_result"
    }
   ],
   "source": [
    "# Select K Best with f_classification\n",
    "k_best = SelectKBest(score_func=f_classification, k=2) #k=2 -> apenas 2 das melhores características\n",
    "k_best.fit_transform(iris_dataset).features"
   ],
   "metadata": {
    "collapsed": false
   }
  },
  {
   "cell_type": "code",
   "execution_count": 19,
   "outputs": [
    {
     "data": {
      "text/plain": "['sepal_length', 'petal_width', 'petal_length']"
     },
     "execution_count": 19,
     "metadata": {},
     "output_type": "execute_result"
    }
   ],
   "source": [
    "k_best = SelectKBest(score_func=f_classification, k=3) #k=3 -> apenas 3 das melhores características\n",
    "k_best.fit_transform(iris_dataset).features"
   ],
   "metadata": {
    "collapsed": false
   }
  },
  {
   "cell_type": "code",
   "execution_count": 20,
   "outputs": [
    {
     "name": "stdout",
     "output_type": "stream",
     "text": [
      "[1.66966919e-31 1.32791652e-16 3.05197580e-91 4.37695696e-85]\n",
      "[ 119.26450218   47.3644614  1179.0343277   959.32440573]\n"
     ]
    }
   ],
   "source": [
    "percentile = SelectPercentile(score_func=f_classification, percentile=50)\n",
    "percentile.fit_transform(iris_dataset)\n",
    "\n",
    "print(percentile.p)\n",
    "print(percentile.F)"
   ],
   "metadata": {
    "collapsed": false
   }
  },
  {
   "cell_type": "code",
   "execution_count": 20,
   "outputs": [],
   "source": [],
   "metadata": {
    "collapsed": false
   }
  }
 ],
 "metadata": {
  "kernelspec": {
   "display_name": "Python 3",
   "language": "python",
   "name": "python3"
  },
  "language_info": {
   "codemirror_mode": {
    "name": "ipython",
    "version": 2
   },
   "file_extension": ".py",
   "mimetype": "text/x-python",
   "name": "python",
   "nbconvert_exporter": "python",
   "pygments_lexer": "ipython2",
   "version": "2.7.6"
  }
 },
 "nbformat": 4,
 "nbformat_minor": 0
}
