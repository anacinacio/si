{
 "cells": [
  {
   "cell_type": "markdown",
   "source": [
    "# AVALIAÇÃO 9"
   ],
   "metadata": {
    "collapsed": false
   }
  },
  {
   "cell_type": "markdown",
   "source": [
    "## Exercício 10\n",
    "Exercício 10: Redes neuronais, layers de ativação, regressão e multiclass"
   ],
   "metadata": {
    "collapsed": false
   }
  },
  {
   "cell_type": "markdown",
   "source": [
    "10.1 ) Adiciona uma nova layer de ativação chamada SoftMaxActivation\n",
    "- Esta layer deve calcular a probabilidade de ocorrência de cada classe usando a formula"
   ],
   "metadata": {
    "collapsed": false
   }
  },
  {
   "cell_type": "markdown",
   "source": [
    "10.2) Adiciona uma nova layer de ativação chamada ReLUActivation\n",
    "- Esta layer deve calcular a relação linear retificada. Ou seja, deves considerar a parte positiva do seu argumento.\n",
    "- Considera a seguinte função do numpy para implementar a função ReLU\n",
    "    • np.maximum (mínimo,X)"
   ],
   "metadata": {
    "collapsed": false
   }
  },
  {
   "cell_type": "markdown",
   "source": [
    "10.3) Constrói um modelo de redes neuronais considerando a seguinte topologia:\n",
    "- O dataset de treino contém 32 features\n",
    "- O problema é do tipo binário\n",
    "- O modelo deve conter 3 Dense layers:\n",
    "    • Dense layer de input\n",
    "    • Dense layer com redução do número de neurónios ( units ) para metade\n",
    "    • Dense layer final (output)\n",
    "- Usa a SigmoidActivation como layer de ativação"
   ],
   "metadata": {
    "collapsed": false
   }
  },
  {
   "cell_type": "code",
   "execution_count": 1,
   "outputs": [],
   "source": [
    "import numpy as np\n",
    "from si.data.dataset import Dataset\n",
    "from si.neuralnets.nn import NN\n",
    "from si.neuralnets.layer import Dense"
   ],
   "metadata": {
    "collapsed": false
   }
  },
  {
   "cell_type": "code",
   "execution_count": 2,
   "outputs": [
    {
     "ename": "TypeError",
     "evalue": "Dense() takes no arguments",
     "output_type": "error",
     "traceback": [
      "\u001B[1;31m---------------------------------------------------------------------------\u001B[0m",
      "\u001B[1;31mTypeError\u001B[0m                                 Traceback (most recent call last)",
      "Cell \u001B[1;32mIn [2], line 3\u001B[0m\n\u001B[0;32m      1\u001B[0m \u001B[38;5;66;03m#modelo de redes neuronais (problema binário)\u001B[39;00m\n\u001B[0;32m      2\u001B[0m \u001B[38;5;66;03m#layers (l1,l2,l3)\u001B[39;00m\n\u001B[1;32m----> 3\u001B[0m l1 \u001B[38;5;241m=\u001B[39m \u001B[43mDense\u001B[49m\u001B[43m(\u001B[49m\u001B[43minput_size\u001B[49m\u001B[43m \u001B[49m\u001B[38;5;241;43m=\u001B[39;49m\u001B[43m \u001B[49m\u001B[38;5;241;43m32\u001B[39;49m\u001B[43m,\u001B[49m\u001B[43m \u001B[49m\u001B[43moutput_size\u001B[49m\u001B[43m \u001B[49m\u001B[38;5;241;43m=\u001B[39;49m\u001B[43m \u001B[49m\u001B[38;5;241;43m32\u001B[39;49m\u001B[43m)\u001B[49m\n\u001B[0;32m      4\u001B[0m l2 \u001B[38;5;241m=\u001B[39m Dense(input_size \u001B[38;5;241m=\u001B[39m \u001B[38;5;241m32\u001B[39m, output_size \u001B[38;5;241m=\u001B[39m \u001B[38;5;241m16\u001B[39m)\n\u001B[0;32m      5\u001B[0m l3 \u001B[38;5;241m=\u001B[39m Dense(input_size \u001B[38;5;241m=\u001B[39m \u001B[38;5;241m16\u001B[39m, output_size \u001B[38;5;241m=\u001B[39m \u001B[38;5;241m1\u001B[39m)\n",
      "\u001B[1;31mTypeError\u001B[0m: Dense() takes no arguments"
     ]
    }
   ],
   "source": [
    "#modelo de redes neuronais (problema binário)\n",
    "#layers (l1,l2,l3)\n",
    "l1 = Dense(input_size = 32, output_size = 32)\n",
    "l2 = Dense(input_size = 32, output_size = 16)\n",
    "l3 = Dense(input_size = 16, output_size = 1)\n",
    "\n",
    "l1_ = SigmoidActivation()\n",
    "l2_ = SigmoidActivation()\n",
    "l3_ = SigmoidActivation()\n",
    "\n",
    "model = NN(layers = [l1, l1_,l2,l2_,l3,l3_])"
   ],
   "metadata": {
    "collapsed": false
   }
  },
  {
   "cell_type": "markdown",
   "source": [
    "10.4) Constrói um modelo de redes neuronais\n",
    "considerando a seguinte topologia:\n",
    "- O dataset de treino contém 32 features\n",
    "- O problema é do tipo multiclass com 3 classes\n",
    "- O modelo deve conter 3 Dense layers\n",
    "    • Dense layer de input\n",
    "    •Dense layer com redução do número de neurónios ( units ) para metade\n",
    "    • Dense layer final (output)\n",
    "- Usa a SigmoidActivation como layer de ativação\n",
    "- Usa a SoftMaxActivation como última layer de ativação"
   ],
   "metadata": {
    "collapsed": false
   }
  },
  {
   "cell_type": "code",
   "execution_count": null,
   "outputs": [],
   "source": [
    "l1 = Dense(input_size = 32, output_size = 32)\n",
    "l2 = Dense(input_size = 32, output_size = 16)\n",
    "l3 = Dense(input_size = 16, output_size = 1)\n",
    "\n",
    "l1_act = SigmoidActivation()\n",
    "l2_act = SigmoidActivation()\n",
    "l3_act = SoftMaxActivation()\n",
    "\n",
    "model = NN(layers = [l1, l1_act,l2,l2_act,l3,l3_act])"
   ],
   "metadata": {
    "collapsed": false
   }
  },
  {
   "cell_type": "code",
   "execution_count": null,
   "outputs": [],
   "source": [],
   "metadata": {
    "collapsed": false
   }
  },
  {
   "cell_type": "markdown",
   "source": [
    "10.5) Constrói um modelo de redes neuronais\n",
    "considerando a seguinte topologia:\n",
    "- O dataset de treino contém 32 features\n",
    "- O problema é do tipo regressão\n",
    "- O modelo deve conter 3 Dense layers :\n",
    "    • Dense layer de input\n",
    "    • Dense layer com redução do número de neurónios ( units ) para metade\n",
    "    • Dense layer final (output)\n",
    "- Usa a ReLU como layer de ativação\n",
    "- Considera que o modelo deve acabar com uma ativação linear"
   ],
   "metadata": {
    "collapsed": false
   }
  },
  {
   "cell_type": "code",
   "execution_count": null,
   "outputs": [],
   "source": [
    "l1 = Dense(input_size = 32, output_size = 32)\n",
    "l2 = Dense(input_size = 32, output_size = 16)\n",
    "l3 = Dense(input_size = 16, output_size = 1)\n",
    "\n",
    "l1_ = ReLUActivation()\n",
    "l2_ = ReLUActivation()\n",
    "l3_ = LinearActivation()\n",
    "\n",
    "model = NN(layers = [l1, l1_,l2,l2_,l3,l3_])"
   ],
   "metadata": {
    "collapsed": false
   }
  },
  {
   "cell_type": "code",
   "execution_count": null,
   "outputs": [],
   "source": [],
   "metadata": {
    "collapsed": false
   }
  }
 ],
 "metadata": {
  "kernelspec": {
   "display_name": "Python 3",
   "language": "python",
   "name": "python3"
  },
  "language_info": {
   "codemirror_mode": {
    "name": "ipython",
    "version": 2
   },
   "file_extension": ".py",
   "mimetype": "text/x-python",
   "name": "python",
   "nbconvert_exporter": "python",
   "pygments_lexer": "ipython2",
   "version": "2.7.6"
  }
 },
 "nbformat": 4,
 "nbformat_minor": 0
}
