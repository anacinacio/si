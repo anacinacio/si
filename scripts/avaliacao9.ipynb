{
 "cells": [
  {
   "cell_type": "markdown",
   "source": [
    "# AVALIAÇÃO 9"
   ],
   "metadata": {
    "collapsed": false
   }
  },
  {
   "cell_type": "markdown",
   "source": [
    "## Exercício 10\n",
    "Exercício 10: Redes neuronais, layers de ativação, regressão e multiclass"
   ],
   "metadata": {
    "collapsed": false
   }
  },
  {
   "cell_type": "markdown",
   "source": [
    "10.1 ) Adiciona uma nova layer de ativação chamada SoftMaxActivation\n",
    "- Esta layer deve calcular a probabilidade de ocorrência de cada classe usando a formula"
   ],
   "metadata": {
    "collapsed": false
   }
  },
  {
   "cell_type": "markdown",
   "source": [
    "10.2) Adiciona uma nova layer de ativação chamada ReLUActivation\n",
    "- Esta layer deve calcular a relação linear retificada. Ou seja, deves considerar a parte positiva do seu argumento.\n",
    "- Considera a seguinte função do numpy para implementar a função ReLU\n",
    "    • np.maximum (mínimo,X)"
   ],
   "metadata": {
    "collapsed": false
   }
  },
  {
   "cell_type": "markdown",
   "source": [
    "10.3) Constrói um modelo de redes neuronais considerando a seguinte topologia:\n",
    "- O dataset de treino contém 32 features\n",
    "- O problema é do tipo binário\n",
    "- O modelo deve conter 3 Dense layers:\n",
    "    • Dense layer de input\n",
    "    • Dense layer com redução do número de neurónios ( units ) para metade\n",
    "    • Dense layer final (output)\n",
    "- Usa a SigmoidActivation como layer de ativação"
   ],
   "metadata": {
    "collapsed": false
   }
  },
  {
   "cell_type": "code",
   "execution_count": 1,
   "outputs": [],
   "source": [
    "import numpy as np\n",
    "from si.data.dataset import Dataset\n",
    "from si.neuralnets.nn import NN\n",
    "from si.neuralnets.layers import Dense, SigmoidActivation, SoftMaxActivation, LinearActivation, ReLUActivation"
   ],
   "metadata": {
    "collapsed": false
   }
  },
  {
   "cell_type": "code",
   "execution_count": 2,
   "outputs": [],
   "source": [
    "#training dataset\n",
    "x = np.random.randn(100, 32)\n",
    "y= np.random.randint(0, 2, size=(100, 1))\n",
    "\n",
    "dt = Dataset(x, y)"
   ],
   "metadata": {
    "collapsed": false
   }
  },
  {
   "cell_type": "code",
   "execution_count": 3,
   "outputs": [],
   "source": [
    "#modelo de redes neuronais (problema binário)\n",
    "#layers (l1,l2,l3)\n",
    "l1_1 = Dense(input_size = 32, output_size = 32)\n",
    "l2_2 = Dense(input_size = 32, output_size = 16)\n",
    "l3_3= Dense(input_size = 16, output_size = 1)\n",
    "\n",
    "l1_ = SigmoidActivation()\n",
    "l2_ = SigmoidActivation()\n",
    "l3_ = SigmoidActivation()\n",
    "\n",
    "model_nn = NN([l1_1, l1_,l2_2,l2_,l3_3,l3_])"
   ],
   "metadata": {
    "collapsed": false
   }
  },
  {
   "cell_type": "code",
   "execution_count": 4,
   "outputs": [
    {
     "data": {
      "text/plain": "array([[0.50336488],\n       [0.50336576],\n       [0.50336658],\n       [0.50336417],\n       [0.50336639],\n       [0.50336379],\n       [0.50336543],\n       [0.50336406],\n       [0.50336433],\n       [0.50336524],\n       [0.50336528],\n       [0.50336449],\n       [0.50336484],\n       [0.50336451],\n       [0.503365  ],\n       [0.5033622 ],\n       [0.50336541],\n       [0.50336491],\n       [0.50336527],\n       [0.50336464],\n       [0.50336515],\n       [0.50336598],\n       [0.50336419],\n       [0.50336436],\n       [0.50336716],\n       [0.50336675],\n       [0.50336519],\n       [0.50336733],\n       [0.50336528],\n       [0.5033656 ],\n       [0.50336527],\n       [0.50336515],\n       [0.50336534],\n       [0.50336516],\n       [0.50336569],\n       [0.50336449],\n       [0.50336583],\n       [0.50336588],\n       [0.50336644],\n       [0.50336576],\n       [0.50336473],\n       [0.50336469],\n       [0.50336581],\n       [0.50336547],\n       [0.50336503],\n       [0.50336531],\n       [0.50336429],\n       [0.50336651],\n       [0.50336382],\n       [0.50336505],\n       [0.50336443],\n       [0.50336623],\n       [0.50336505],\n       [0.50336322],\n       [0.50336598],\n       [0.50336389],\n       [0.50336297],\n       [0.50336483],\n       [0.50336711],\n       [0.50336543],\n       [0.50336448],\n       [0.50336497],\n       [0.50336494],\n       [0.5033652 ],\n       [0.50336376],\n       [0.50336687],\n       [0.50336422],\n       [0.50336386],\n       [0.50336572],\n       [0.50336463],\n       [0.50336718],\n       [0.50336529],\n       [0.50336349],\n       [0.50336593],\n       [0.50336476],\n       [0.50336536],\n       [0.50336252],\n       [0.50336476],\n       [0.50336337],\n       [0.50336757],\n       [0.50336736],\n       [0.50336578],\n       [0.50336391],\n       [0.50336485],\n       [0.50336678],\n       [0.50336557],\n       [0.50336359],\n       [0.50336486],\n       [0.50336514],\n       [0.5033659 ],\n       [0.50336428],\n       [0.50336426],\n       [0.50336421],\n       [0.50336541],\n       [0.50336408],\n       [0.50336733],\n       [0.50336496],\n       [0.50336429],\n       [0.50336525],\n       [0.50336375]])"
     },
     "execution_count": 4,
     "metadata": {},
     "output_type": "execute_result"
    }
   ],
   "source": [
    "model_nn.predict(dataset=dt)"
   ],
   "metadata": {
    "collapsed": false
   }
  },
  {
   "cell_type": "markdown",
   "source": [
    "10.4) Constrói um modelo de redes neuronais\n",
    "considerando a seguinte topologia:\n",
    "- O dataset de treino contém 32 features\n",
    "- O problema é do tipo multiclass com 3 classes\n",
    "- O modelo deve conter 3 Dense layers\n",
    "    • Dense layer de input\n",
    "    •Dense layer com redução do número de neurónios ( units ) para metade\n",
    "    • Dense layer final (output)\n",
    "- Usa a SigmoidActivation como layer de ativação\n",
    "- Usa a SoftMaxActivation como última layer de ativação"
   ],
   "metadata": {
    "collapsed": false
   }
  },
  {
   "cell_type": "code",
   "execution_count": 5,
   "outputs": [],
   "source": [
    "#training dataset\n",
    "x_4 = np.random.randn(100, 32)\n",
    "y_4= np.random.randint(0, 2, size=(100, 1))\n",
    "\n",
    "dt_4 = Dataset(x_4, y_4)"
   ],
   "metadata": {
    "collapsed": false
   }
  },
  {
   "cell_type": "code",
   "execution_count": 6,
   "outputs": [],
   "source": [
    "l1 = Dense(input_size = 32, output_size = 32)\n",
    "l2 = Dense(input_size = 32, output_size = 16)\n",
    "l3 = Dense(input_size = 16, output_size = 1)\n",
    "\n",
    "l1_act = SigmoidActivation()\n",
    "l2_act = SigmoidActivation()\n",
    "l3_act = SoftMaxActivation()\n",
    "\n",
    "model_nn4 = NN(layers = [l1, l1_act,l2,l2_act,l3,l3_act])"
   ],
   "metadata": {
    "collapsed": false
   }
  },
  {
   "cell_type": "markdown",
   "source": [],
   "metadata": {
    "collapsed": false
   }
  },
  {
   "cell_type": "code",
   "execution_count": 7,
   "outputs": [
    {
     "data": {
      "text/plain": "array([[1.],\n       [1.],\n       [1.],\n       [1.],\n       [1.],\n       [1.],\n       [1.],\n       [1.],\n       [1.],\n       [1.],\n       [1.],\n       [1.],\n       [1.],\n       [1.],\n       [1.],\n       [1.],\n       [1.],\n       [1.],\n       [1.],\n       [1.],\n       [1.],\n       [1.],\n       [1.],\n       [1.],\n       [1.],\n       [1.],\n       [1.],\n       [1.],\n       [1.],\n       [1.],\n       [1.],\n       [1.],\n       [1.],\n       [1.],\n       [1.],\n       [1.],\n       [1.],\n       [1.],\n       [1.],\n       [1.],\n       [1.],\n       [1.],\n       [1.],\n       [1.],\n       [1.],\n       [1.],\n       [1.],\n       [1.],\n       [1.],\n       [1.],\n       [1.],\n       [1.],\n       [1.],\n       [1.],\n       [1.],\n       [1.],\n       [1.],\n       [1.],\n       [1.],\n       [1.],\n       [1.],\n       [1.],\n       [1.],\n       [1.],\n       [1.],\n       [1.],\n       [1.],\n       [1.],\n       [1.],\n       [1.],\n       [1.],\n       [1.],\n       [1.],\n       [1.],\n       [1.],\n       [1.],\n       [1.],\n       [1.],\n       [1.],\n       [1.],\n       [1.],\n       [1.],\n       [1.],\n       [1.],\n       [1.],\n       [1.],\n       [1.],\n       [1.],\n       [1.],\n       [1.],\n       [1.],\n       [1.],\n       [1.],\n       [1.],\n       [1.],\n       [1.],\n       [1.],\n       [1.],\n       [1.],\n       [1.]])"
     },
     "execution_count": 7,
     "metadata": {},
     "output_type": "execute_result"
    }
   ],
   "source": [
    "model_nn4.predict(dataset=dt_4)"
   ],
   "metadata": {
    "collapsed": false
   }
  },
  {
   "cell_type": "markdown",
   "source": [
    "10.5) Constrói um modelo de redes neuronais\n",
    "considerando a seguinte topologia:\n",
    "- O dataset de treino contém 32 features\n",
    "- O problema é do tipo regressão\n",
    "- O modelo deve conter 3 Dense layers :\n",
    "    • Dense layer de input\n",
    "    • Dense layer com redução do número de neurónios ( units ) para metade\n",
    "    • Dense layer final (output)\n",
    "- Usa a ReLU como layer de ativação\n",
    "- Considera que o modelo deve acabar com uma ativação linear"
   ],
   "metadata": {
    "collapsed": false
   }
  },
  {
   "cell_type": "code",
   "execution_count": 8,
   "outputs": [],
   "source": [
    "#training dataset\n",
    "x_5 = np.random.randn(100, 32)\n",
    "y_5= np.random.randn(100, 1)\n",
    "\n",
    "dt_5 = Dataset(x_5, y_5)"
   ],
   "metadata": {
    "collapsed": false
   }
  },
  {
   "cell_type": "code",
   "execution_count": 9,
   "outputs": [],
   "source": [
    "l1 = Dense(input_size = 32, output_size = 32)\n",
    "l2 = Dense(input_size = 32, output_size = 16)\n",
    "l3 = Dense(input_size = 16, output_size = 1)\n",
    "\n",
    "l1_rla = ReLUActivation()\n",
    "l2_rla = ReLUActivation()\n",
    "l3_la = LinearActivation()\n",
    "\n",
    "model_nn5 = NN([l1, l1_rla,l2,l2_rla,l3,l3_la])"
   ],
   "metadata": {
    "collapsed": false
   }
  },
  {
   "cell_type": "code",
   "execution_count": 10,
   "outputs": [
    {
     "ename": "TypeError",
     "evalue": "forward() takes 1 positional argument but 2 were given",
     "output_type": "error",
     "traceback": [
      "\u001B[1;31m---------------------------------------------------------------------------\u001B[0m",
      "\u001B[1;31mTypeError\u001B[0m                                 Traceback (most recent call last)",
      "Cell \u001B[1;32mIn [10], line 1\u001B[0m\n\u001B[1;32m----> 1\u001B[0m \u001B[43mmodel_nn5\u001B[49m\u001B[38;5;241;43m.\u001B[39;49m\u001B[43mpredict\u001B[49m\u001B[43m(\u001B[49m\u001B[43mdataset\u001B[49m\u001B[38;5;241;43m=\u001B[39;49m\u001B[43mdt_5\u001B[49m\u001B[43m)\u001B[49m\n",
      "File \u001B[1;32m~\\Documents\\GitHub\\si\\src\\si\\neuralnets\\nn.py:122\u001B[0m, in \u001B[0;36mNN.predict\u001B[1;34m(self, dataset)\u001B[0m\n\u001B[0;32m    120\u001B[0m \u001B[38;5;66;03m#propagação para a frente\u001B[39;00m\n\u001B[0;32m    121\u001B[0m \u001B[38;5;28;01mfor\u001B[39;00m layer \u001B[38;5;129;01min\u001B[39;00m \u001B[38;5;28mself\u001B[39m\u001B[38;5;241m.\u001B[39mlayers:\n\u001B[1;32m--> 122\u001B[0m     X \u001B[38;5;241m=\u001B[39m \u001B[43mlayer\u001B[49m\u001B[38;5;241;43m.\u001B[39;49m\u001B[43mforward\u001B[49m\u001B[43m(\u001B[49m\u001B[43mX\u001B[49m\u001B[43m)\u001B[49m\n\u001B[0;32m    124\u001B[0m \u001B[38;5;28;01mreturn\u001B[39;00m X\n",
      "\u001B[1;31mTypeError\u001B[0m: forward() takes 1 positional argument but 2 were given"
     ]
    }
   ],
   "source": [
    "model_nn5.predict(dataset=dt_5)"
   ],
   "metadata": {
    "collapsed": false
   }
  },
  {
   "cell_type": "code",
   "execution_count": null,
   "outputs": [],
   "source": [],
   "metadata": {
    "collapsed": false
   }
  }
 ],
 "metadata": {
  "kernelspec": {
   "display_name": "Python 3",
   "language": "python",
   "name": "python3"
  },
  "language_info": {
   "codemirror_mode": {
    "name": "ipython",
    "version": 2
   },
   "file_extension": ".py",
   "mimetype": "text/x-python",
   "name": "python",
   "nbconvert_exporter": "python",
   "pygments_lexer": "ipython2",
   "version": "2.7.6"
  }
 },
 "nbformat": 4,
 "nbformat_minor": 0
}
