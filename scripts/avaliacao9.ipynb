{
 "cells": [
  {
   "cell_type": "markdown",
   "source": [
    "# AVALIAÇÃO 9"
   ],
   "metadata": {
    "collapsed": false
   }
  },
  {
   "cell_type": "markdown",
   "source": [
    "## Exercício 10\n",
    "Exercício 10: Redes neuronais, layers de ativação, regressão e multiclass"
   ],
   "metadata": {
    "collapsed": false
   }
  },
  {
   "cell_type": "markdown",
   "source": [
    "10.1 ) Adiciona uma nova layer de ativação chamada SoftMaxActivation\n",
    "- Esta layer deve calcular a probabilidade de ocorrência de cada classe usando a formula"
   ],
   "metadata": {
    "collapsed": false
   }
  },
  {
   "cell_type": "markdown",
   "source": [
    "10.2) Adiciona uma nova layer de ativação chamada ReLUActivation\n",
    "- Esta layer deve calcular a relação linear retificada. Ou seja, deves considerar a parte positiva do seu argumento.\n",
    "- Considera a seguinte função do numpy para implementar a função ReLU\n",
    "    • np.maximum (mínimo,X)"
   ],
   "metadata": {
    "collapsed": false
   }
  },
  {
   "cell_type": "markdown",
   "source": [
    "10.3) Constrói um modelo de redes neuronais considerando a seguinte topologia:\n",
    "- O dataset de treino contém 32 features\n",
    "- O problema é do tipo binário\n",
    "- O modelo deve conter 3 Dense layers:\n",
    "    • Dense layer de input\n",
    "    • Dense layer com redução do número de neurónios ( units ) para metade\n",
    "    • Dense layer final (output)\n",
    "- Usa a SigmoidActivation como layer de ativação"
   ],
   "metadata": {
    "collapsed": false
   }
  },
  {
   "cell_type": "code",
   "execution_count": 1,
   "outputs": [],
   "source": [
    "import numpy as np\n",
    "from si.data.dataset import Dataset\n",
    "from si.neuralnets.nn import NN\n",
    "from si.neuralnets.layer import Dense, SigmoidActivation, SoftMaxActivation, LinearActivation, ReLUActivation"
   ],
   "metadata": {
    "collapsed": false
   }
  },
  {
   "cell_type": "code",
   "execution_count": 2,
   "outputs": [],
   "source": [
    "#training dataset\n",
    "x = np.random.randn(100, 32)\n",
    "y= np.random.randint(0, 2, size=(100, 1))\n",
    "\n",
    "dt = Dataset(x, y)"
   ],
   "metadata": {
    "collapsed": false
   }
  },
  {
   "cell_type": "code",
   "execution_count": 3,
   "outputs": [],
   "source": [
    "#modelo de redes neuronais (problema binário)\n",
    "#layers (l1,l2,l3)\n",
    "l1_1 = Dense(input_size = 32, output_size = 32)\n",
    "l2_2 = Dense(input_size = 32, output_size = 16)\n",
    "l3_3= Dense(input_size = 16, output_size = 1)\n",
    "\n",
    "l1_ = SigmoidActivation()\n",
    "l2_ = SigmoidActivation()\n",
    "l3_ = SigmoidActivation()\n",
    "\n",
    "model_nn = NN([l1_1, l1_,l2_2,l2_,l3_3,l3_])"
   ],
   "metadata": {
    "collapsed": false
   }
  },
  {
   "cell_type": "code",
   "execution_count": 4,
   "outputs": [
    {
     "data": {
      "text/plain": "array([[0.50795793],\n       [0.50796468],\n       [0.50796385],\n       [0.50796168],\n       [0.50796346],\n       [0.50796292],\n       [0.50796748],\n       [0.50796056],\n       [0.50796456],\n       [0.5079634 ],\n       [0.50796016],\n       [0.50796147],\n       [0.50796185],\n       [0.50796356],\n       [0.50795956],\n       [0.50796274],\n       [0.50796299],\n       [0.50796349],\n       [0.50796376],\n       [0.507961  ],\n       [0.50796008],\n       [0.50796147],\n       [0.50796905],\n       [0.50796344],\n       [0.50796238],\n       [0.50796053],\n       [0.50796458],\n       [0.50796216],\n       [0.50796124],\n       [0.5079646 ],\n       [0.507961  ],\n       [0.50796397],\n       [0.50796585],\n       [0.50796222],\n       [0.50796417],\n       [0.50796295],\n       [0.50796433],\n       [0.50796144],\n       [0.50795892],\n       [0.50796372],\n       [0.5079615 ],\n       [0.50796105],\n       [0.50796477],\n       [0.50796623],\n       [0.50796056],\n       [0.50796299],\n       [0.50796519],\n       [0.50796043],\n       [0.50796239],\n       [0.50796   ],\n       [0.50796219],\n       [0.50796171],\n       [0.50796353],\n       [0.50796587],\n       [0.50795997],\n       [0.5079634 ],\n       [0.50796077],\n       [0.50796512],\n       [0.50796203],\n       [0.50796106],\n       [0.50796084],\n       [0.50796137],\n       [0.50796366],\n       [0.50796315],\n       [0.50796326],\n       [0.50795848],\n       [0.5079642 ],\n       [0.50796379],\n       [0.50796272],\n       [0.50796411],\n       [0.507959  ],\n       [0.50796243],\n       [0.50796351],\n       [0.50796317],\n       [0.50796232],\n       [0.50796444],\n       [0.50796104],\n       [0.50796174],\n       [0.50796259],\n       [0.50796594],\n       [0.50796353],\n       [0.50796365],\n       [0.50796572],\n       [0.50796465],\n       [0.50796854],\n       [0.50796558],\n       [0.50796049],\n       [0.50796473],\n       [0.5079602 ],\n       [0.50796519],\n       [0.50796381],\n       [0.50796338],\n       [0.50796015],\n       [0.50796591],\n       [0.50795982],\n       [0.507964  ],\n       [0.50796436],\n       [0.50796384],\n       [0.50796391],\n       [0.50796123]])"
     },
     "execution_count": 4,
     "metadata": {},
     "output_type": "execute_result"
    }
   ],
   "source": [
    "model_nn.predict(dataset=dt)"
   ],
   "metadata": {
    "collapsed": false
   }
  },
  {
   "cell_type": "markdown",
   "source": [
    "10.4) Constrói um modelo de redes neuronais\n",
    "considerando a seguinte topologia:\n",
    "- O dataset de treino contém 32 features\n",
    "- O problema é do tipo multiclass com 3 classes\n",
    "- O modelo deve conter 3 Dense layers\n",
    "    • Dense layer de input\n",
    "    •Dense layer com redução do número de neurónios ( units ) para metade\n",
    "    • Dense layer final (output)\n",
    "- Usa a SigmoidActivation como layer de ativação\n",
    "- Usa a SoftMaxActivation como última layer de ativação"
   ],
   "metadata": {
    "collapsed": false
   }
  },
  {
   "cell_type": "code",
   "execution_count": 5,
   "outputs": [],
   "source": [
    "#training dataset\n",
    "x_4 = np.random.randn(100, 32)\n",
    "y_4= np.random.randint(0, 2, size=(100, 1))\n",
    "\n",
    "dt_4 = Dataset(x_4, y_4)"
   ],
   "metadata": {
    "collapsed": false
   }
  },
  {
   "cell_type": "code",
   "execution_count": 6,
   "outputs": [],
   "source": [
    "l1 = Dense(input_size = 32, output_size = 32)\n",
    "l2 = Dense(input_size = 32, output_size = 16)\n",
    "l3 = Dense(input_size = 16, output_size = 3)\n",
    "\n",
    "l1_act = SigmoidActivation()\n",
    "l2_act = SigmoidActivation()\n",
    "l3_act = SoftMaxActivation()\n",
    "\n",
    "model_nn4 = NN(layers = [l1, l1_act,l2,l2_act,l3,l3_act])"
   ],
   "metadata": {
    "collapsed": false
   }
  },
  {
   "cell_type": "markdown",
   "source": [],
   "metadata": {
    "collapsed": false
   }
  },
  {
   "cell_type": "code",
   "execution_count": 7,
   "outputs": [
    {
     "data": {
      "text/plain": "array([[1.],\n       [1.],\n       [1.],\n       [1.],\n       [1.],\n       [1.],\n       [1.],\n       [1.],\n       [1.],\n       [1.],\n       [1.],\n       [1.],\n       [1.],\n       [1.],\n       [1.],\n       [1.],\n       [1.],\n       [1.],\n       [1.],\n       [1.],\n       [1.],\n       [1.],\n       [1.],\n       [1.],\n       [1.],\n       [1.],\n       [1.],\n       [1.],\n       [1.],\n       [1.],\n       [1.],\n       [1.],\n       [1.],\n       [1.],\n       [1.],\n       [1.],\n       [1.],\n       [1.],\n       [1.],\n       [1.],\n       [1.],\n       [1.],\n       [1.],\n       [1.],\n       [1.],\n       [1.],\n       [1.],\n       [1.],\n       [1.],\n       [1.],\n       [1.],\n       [1.],\n       [1.],\n       [1.],\n       [1.],\n       [1.],\n       [1.],\n       [1.],\n       [1.],\n       [1.],\n       [1.],\n       [1.],\n       [1.],\n       [1.],\n       [1.],\n       [1.],\n       [1.],\n       [1.],\n       [1.],\n       [1.],\n       [1.],\n       [1.],\n       [1.],\n       [1.],\n       [1.],\n       [1.],\n       [1.],\n       [1.],\n       [1.],\n       [1.],\n       [1.],\n       [1.],\n       [1.],\n       [1.],\n       [1.],\n       [1.],\n       [1.],\n       [1.],\n       [1.],\n       [1.],\n       [1.],\n       [1.],\n       [1.],\n       [1.],\n       [1.],\n       [1.],\n       [1.],\n       [1.],\n       [1.],\n       [1.]])"
     },
     "execution_count": 7,
     "metadata": {},
     "output_type": "execute_result"
    }
   ],
   "source": [
    "model_nn4.predict(dataset=dt_4)"
   ],
   "metadata": {
    "collapsed": false
   }
  },
  {
   "cell_type": "markdown",
   "source": [
    "10.5) Constrói um modelo de redes neuronais\n",
    "considerando a seguinte topologia:\n",
    "- O dataset de treino contém 32 features\n",
    "- O problema é do tipo regressão\n",
    "- O modelo deve conter 3 Dense layers :\n",
    "    • Dense layer de input\n",
    "    • Dense layer com redução do número de neurónios ( units ) para metade\n",
    "    • Dense layer final (output)\n",
    "- Usa a ReLU como layer de ativação\n",
    "- Considera que o modelo deve acabar com uma ativação linear"
   ],
   "metadata": {
    "collapsed": false
   }
  },
  {
   "cell_type": "code",
   "execution_count": 8,
   "outputs": [],
   "source": [
    "#training dataset\n",
    "x_5 = np.random.randn(100, 32)\n",
    "y_5= np.random.randn(100, 1)\n",
    "\n",
    "dt_5 = Dataset(x_5, y_5)"
   ],
   "metadata": {
    "collapsed": false
   }
  },
  {
   "cell_type": "code",
   "execution_count": 9,
   "outputs": [],
   "source": [
    "l1 = Dense(input_size = 32, output_size = 32)\n",
    "l2 = Dense(input_size = 32, output_size = 16)\n",
    "l3 = Dense(input_size = 16, output_size = 1)\n",
    "\n",
    "l1_rla = ReLUActivation()\n",
    "l2_rla = ReLUActivation()\n",
    "l3_la = LinearActivation()\n",
    "\n",
    "model_nn5 = NN([l1, l1_rla,l2,l2_rla,l3,l3_la])"
   ],
   "metadata": {
    "collapsed": false
   }
  },
  {
   "cell_type": "code",
   "execution_count": 10,
   "outputs": [
    {
     "ename": "TypeError",
     "evalue": "forward() takes 1 positional argument but 2 were given",
     "output_type": "error",
     "traceback": [
      "\u001B[1;31m---------------------------------------------------------------------------\u001B[0m",
      "\u001B[1;31mTypeError\u001B[0m                                 Traceback (most recent call last)",
      "Cell \u001B[1;32mIn [10], line 1\u001B[0m\n\u001B[1;32m----> 1\u001B[0m \u001B[43mmodel_nn5\u001B[49m\u001B[38;5;241;43m.\u001B[39;49m\u001B[43mpredict\u001B[49m\u001B[43m(\u001B[49m\u001B[43mdataset\u001B[49m\u001B[38;5;241;43m=\u001B[39;49m\u001B[43mdt_5\u001B[49m\u001B[43m)\u001B[49m\n",
      "File \u001B[1;32m~\\Documents\\GitHub\\si\\src\\si\\neuralnets\\nn.py:122\u001B[0m, in \u001B[0;36mNN.predict\u001B[1;34m(self, dataset)\u001B[0m\n\u001B[0;32m    120\u001B[0m \u001B[38;5;66;03m#propagação para a frente\u001B[39;00m\n\u001B[0;32m    121\u001B[0m \u001B[38;5;28;01mfor\u001B[39;00m layer \u001B[38;5;129;01min\u001B[39;00m \u001B[38;5;28mself\u001B[39m\u001B[38;5;241m.\u001B[39mlayers:\n\u001B[1;32m--> 122\u001B[0m     X \u001B[38;5;241m=\u001B[39m \u001B[43mlayer\u001B[49m\u001B[38;5;241;43m.\u001B[39;49m\u001B[43mforward\u001B[49m\u001B[43m(\u001B[49m\u001B[43mX\u001B[49m\u001B[43m)\u001B[49m\n\u001B[0;32m    124\u001B[0m \u001B[38;5;28;01mreturn\u001B[39;00m X\n",
      "\u001B[1;31mTypeError\u001B[0m: forward() takes 1 positional argument but 2 were given"
     ]
    }
   ],
   "source": [
    "model_nn5.predict(dataset=dt_5)"
   ],
   "metadata": {
    "collapsed": false
   }
  },
  {
   "cell_type": "code",
   "execution_count": null,
   "outputs": [],
   "source": [],
   "metadata": {
    "collapsed": false
   }
  }
 ],
 "metadata": {
  "kernelspec": {
   "display_name": "Python 3",
   "language": "python",
   "name": "python3"
  },
  "language_info": {
   "codemirror_mode": {
    "name": "ipython",
    "version": 2
   },
   "file_extension": ".py",
   "mimetype": "text/x-python",
   "name": "python",
   "nbconvert_exporter": "python",
   "pygments_lexer": "ipython2",
   "version": "2.7.6"
  }
 },
 "nbformat": 4,
 "nbformat_minor": 0
}
