{
 "cells": [
  {
   "cell_type": "markdown",
   "source": [
    "# AVALIAÇÃO 9"
   ],
   "metadata": {
    "collapsed": false
   }
  },
  {
   "cell_type": "markdown",
   "source": [
    "## Exercício 10\n",
    "Exercício 10: Redes neuronais, layers de ativação, regressão e multiclass"
   ],
   "metadata": {
    "collapsed": false
   }
  },
  {
   "cell_type": "markdown",
   "source": [
    "10.1 ) Adiciona uma nova layer de ativação chamada SoftMaxActivation\n",
    "- Esta layer deve calcular a probabilidade de ocorrência de cada classe usando a formula"
   ],
   "metadata": {
    "collapsed": false
   }
  },
  {
   "cell_type": "markdown",
   "source": [
    "10.2) Adiciona uma nova layer de ativação chamada ReLUActivation\n",
    "- Esta layer deve calcular a relação linear retificada. Ou seja, deves considerar a parte positiva do seu argumento.\n",
    "- Considera a seguinte função do numpy para implementar a função ReLU\n",
    "    • np.maximum (mínimo,X)"
   ],
   "metadata": {
    "collapsed": false
   }
  },
  {
   "cell_type": "markdown",
   "source": [
    "10.3) Constrói um modelo de redes neuronais considerando a seguinte topologia:\n",
    "- O dataset de treino contém 32 features\n",
    "- O problema é do tipo binário\n",
    "- O modelo deve conter 3 Dense layers:\n",
    "    • Dense layer de input\n",
    "    • Dense layer com redução do número de neurónios ( units ) para metade\n",
    "    • Dense layer final (output)\n",
    "- Usa a SigmoidActivation como layer de ativação"
   ],
   "metadata": {
    "collapsed": false
   }
  },
  {
   "cell_type": "code",
   "execution_count": 1,
   "outputs": [],
   "source": [
    "import numpy as np\n",
    "from si.data.dataset import Dataset\n",
    "from si.neuralnets.nn import NN\n",
    "from si.neuralnets.layer import Dense, SigmoidActivation, SoftMaxActivation, LinearActivation, ReLUActivation"
   ],
   "metadata": {
    "collapsed": false
   }
  },
  {
   "cell_type": "code",
   "execution_count": 2,
   "outputs": [],
   "source": [
    "#training dataset\n",
    "x = np.random.randn(100, 32)\n",
    "y= np.random.randint(0, 2, size=(100, 1))\n",
    "\n",
    "dt = Dataset(x, y)"
   ],
   "metadata": {
    "collapsed": false
   }
  },
  {
   "cell_type": "code",
   "execution_count": 3,
   "outputs": [],
   "source": [
    "#modelo de redes neuronais (problema binário)\n",
    "#layers (l1,l2,l3)\n",
    "l1_1 = Dense(input_size = 32, output_size = 32)\n",
    "l2_2 = Dense(input_size = 32, output_size = 16)\n",
    "l3_3= Dense(input_size = 16, output_size = 1)\n",
    "\n",
    "l1_ = SigmoidActivation()\n",
    "l2_ = SigmoidActivation()\n",
    "l3_ = SigmoidActivation()\n",
    "\n",
    "model_nn = NN([l1_1, l1_,l2_2,l2_,l3_3,l3_])"
   ],
   "metadata": {
    "collapsed": false
   }
  },
  {
   "cell_type": "code",
   "execution_count": 4,
   "outputs": [
    {
     "data": {
      "text/plain": "array([[0.50320299],\n       [0.50320278],\n       [0.5032009 ],\n       [0.50320473],\n       [0.50319932],\n       [0.50320408],\n       [0.50320332],\n       [0.5032014 ],\n       [0.50320273],\n       [0.50320073],\n       [0.5032057 ],\n       [0.50320285],\n       [0.50320469],\n       [0.50320163],\n       [0.50320206],\n       [0.50320146],\n       [0.50320206],\n       [0.50320382],\n       [0.50320334],\n       [0.50320083],\n       [0.50320658],\n       [0.50320577],\n       [0.50320204],\n       [0.50320316],\n       [0.5032052 ],\n       [0.50320358],\n       [0.50320457],\n       [0.50320098],\n       [0.50320337],\n       [0.50320292],\n       [0.50320447],\n       [0.50320011],\n       [0.50320051],\n       [0.50319932],\n       [0.50320516],\n       [0.50320181],\n       [0.50320147],\n       [0.50320416],\n       [0.50320321],\n       [0.50320348],\n       [0.50320309],\n       [0.50320129],\n       [0.5032038 ],\n       [0.50320178],\n       [0.50320542],\n       [0.50320093],\n       [0.50320288],\n       [0.50320355],\n       [0.50320168],\n       [0.50320114],\n       [0.50320612],\n       [0.50320321],\n       [0.50320427],\n       [0.50320117],\n       [0.50320477],\n       [0.50320088],\n       [0.50320157],\n       [0.50320124],\n       [0.50320488],\n       [0.50320268],\n       [0.50320358],\n       [0.50320372],\n       [0.50320276],\n       [0.50320426],\n       [0.50320424],\n       [0.50320369],\n       [0.50320314],\n       [0.50320277],\n       [0.50320445],\n       [0.50320238],\n       [0.50320324],\n       [0.50320506],\n       [0.50320113],\n       [0.50320164],\n       [0.50320256],\n       [0.50320508],\n       [0.5032033 ],\n       [0.50320162],\n       [0.50320563],\n       [0.50320482],\n       [0.50320447],\n       [0.50320195],\n       [0.50320187],\n       [0.50320127],\n       [0.5032017 ],\n       [0.50320161],\n       [0.50319924],\n       [0.50320235],\n       [0.50320287],\n       [0.50320542],\n       [0.50320404],\n       [0.50320269],\n       [0.50320255],\n       [0.50320253],\n       [0.50320221],\n       [0.50320266],\n       [0.50320452],\n       [0.50320171],\n       [0.50320542],\n       [0.50320431]])"
     },
     "execution_count": 4,
     "metadata": {},
     "output_type": "execute_result"
    }
   ],
   "source": [
    "model_nn.predict(dataset=dt)"
   ],
   "metadata": {
    "collapsed": false
   }
  },
  {
   "cell_type": "markdown",
   "source": [
    "10.4) Constrói um modelo de redes neuronais\n",
    "considerando a seguinte topologia:\n",
    "- O dataset de treino contém 32 features\n",
    "- O problema é do tipo multiclass com 3 classes\n",
    "- O modelo deve conter 3 Dense layers\n",
    "    • Dense layer de input\n",
    "    •Dense layer com redução do número de neurónios ( units ) para metade\n",
    "    • Dense layer final (output)\n",
    "- Usa a SigmoidActivation como layer de ativação\n",
    "- Usa a SoftMaxActivation como última layer de ativação"
   ],
   "metadata": {
    "collapsed": false
   }
  },
  {
   "cell_type": "code",
   "execution_count": 5,
   "outputs": [],
   "source": [
    "#training dataset\n",
    "x_4 = np.random.randn(100, 32)\n",
    "y_4= np.random.randint(0, 2, size=(100, 1))\n",
    "\n",
    "dt_4 = Dataset(x_4, y_4)"
   ],
   "metadata": {
    "collapsed": false
   }
  },
  {
   "cell_type": "code",
   "execution_count": 6,
   "outputs": [],
   "source": [
    "l1 = Dense(input_size = 32, output_size = 32)\n",
    "l2 = Dense(input_size = 32, output_size = 16)\n",
    "l3 = Dense(input_size = 16, output_size = 3)\n",
    "\n",
    "l1_act = SigmoidActivation()\n",
    "l2_act = SigmoidActivation()\n",
    "l3_act = SoftMaxActivation()\n",
    "\n",
    "model_nn4 = NN(layers = [l1, l1_act,l2,l2_act,l3,l3_act])"
   ],
   "metadata": {
    "collapsed": false
   }
  },
  {
   "cell_type": "markdown",
   "source": [],
   "metadata": {
    "collapsed": false
   }
  },
  {
   "cell_type": "code",
   "execution_count": 7,
   "outputs": [
    {
     "data": {
      "text/plain": "array([[0.32800616, 0.33915044, 0.3328434 ],\n       [0.32800433, 0.33915261, 0.33284307],\n       [0.328003  , 0.33915192, 0.33284509],\n       [0.32800423, 0.33915079, 0.33284498],\n       [0.32800504, 0.33915226, 0.3328427 ],\n       [0.32800646, 0.33915072, 0.33284282],\n       [0.32800409, 0.33915295, 0.33284295],\n       [0.32800188, 0.33915446, 0.33284366],\n       [0.32800424, 0.33915132, 0.33284444],\n       [0.32800475, 0.33915317, 0.33284208],\n       [0.32800474, 0.33915272, 0.33284254],\n       [0.32800391, 0.33914891, 0.33284718],\n       [0.32800342, 0.33915154, 0.33284504],\n       [0.3280038 , 0.33915014, 0.33284606],\n       [0.32800354, 0.33915108, 0.33284538],\n       [0.32800254, 0.33915152, 0.33284594],\n       [0.32800427, 0.33915175, 0.33284397],\n       [0.32800773, 0.33914989, 0.33284238],\n       [0.32800345, 0.33915089, 0.33284566],\n       [0.32800651, 0.33915023, 0.33284326],\n       [0.32800384, 0.3391515 , 0.33284466],\n       [0.32800429, 0.33915076, 0.33284495],\n       [0.32800579, 0.33914969, 0.33284451],\n       [0.32800569, 0.33914858, 0.33284572],\n       [0.3280058 , 0.33915104, 0.33284317],\n       [0.32800482, 0.33915319, 0.33284199],\n       [0.32800702, 0.33915076, 0.33284222],\n       [0.32800329, 0.33915349, 0.33284322],\n       [0.32800272, 0.33915256, 0.33284472],\n       [0.32800422, 0.33914924, 0.33284654],\n       [0.3280049 , 0.33915077, 0.33284434],\n       [0.32800407, 0.33914963, 0.3328463 ],\n       [0.32800484, 0.33915159, 0.33284358],\n       [0.32800351, 0.33914814, 0.33284835],\n       [0.32800425, 0.33915152, 0.33284423],\n       [0.32800397, 0.33915082, 0.33284521],\n       [0.32800533, 0.33915393, 0.33284074],\n       [0.32800503, 0.33915137, 0.3328436 ],\n       [0.32800256, 0.33915187, 0.33284556],\n       [0.32800626, 0.3391507 , 0.33284304],\n       [0.3280039 , 0.33915108, 0.33284502],\n       [0.3280058 , 0.33915181, 0.33284239],\n       [0.32800659, 0.33915041, 0.33284301],\n       [0.32800407, 0.33915254, 0.33284339],\n       [0.32800312, 0.33915198, 0.33284491],\n       [0.32800431, 0.3391528 , 0.33284289],\n       [0.32800833, 0.33914839, 0.33284328],\n       [0.32800461, 0.33915264, 0.33284274],\n       [0.32800633, 0.33915   , 0.33284367],\n       [0.32800676, 0.33914864, 0.3328446 ],\n       [0.32800516, 0.33915015, 0.33284469],\n       [0.3280051 , 0.33915306, 0.33284183],\n       [0.32800333, 0.33915046, 0.33284621],\n       [0.32800403, 0.33915222, 0.33284376],\n       [0.32800374, 0.33915116, 0.33284511],\n       [0.32800566, 0.33915009, 0.33284424],\n       [0.32800492, 0.33915105, 0.33284403],\n       [0.32800591, 0.33915299, 0.33284109],\n       [0.32800792, 0.33915014, 0.33284194],\n       [0.32800661, 0.33915076, 0.33284263],\n       [0.32800567, 0.33915038, 0.33284395],\n       [0.32800509, 0.33915093, 0.33284399],\n       [0.32800457, 0.33914993, 0.3328455 ],\n       [0.32800564, 0.33914841, 0.33284595],\n       [0.32800637, 0.33915332, 0.33284031],\n       [0.32800597, 0.33915043, 0.33284359],\n       [0.32800381, 0.33915252, 0.33284367],\n       [0.32800495, 0.33914922, 0.33284583],\n       [0.32800712, 0.33915274, 0.33284014],\n       [0.3280043 , 0.33915117, 0.33284453],\n       [0.32800554, 0.33914717, 0.33284729],\n       [0.32800491, 0.33915093, 0.33284416],\n       [0.32800737, 0.33914945, 0.33284318],\n       [0.32800574, 0.33915001, 0.33284424],\n       [0.32800614, 0.33914991, 0.33284395],\n       [0.32800628, 0.33914738, 0.33284633],\n       [0.3280068 , 0.33915155, 0.33284165],\n       [0.3280056 , 0.33914869, 0.33284571],\n       [0.32800526, 0.3391509 , 0.33284384],\n       [0.3280055 , 0.33915143, 0.33284307],\n       [0.32800442, 0.33915238, 0.33284319],\n       [0.32800297, 0.33915294, 0.33284409],\n       [0.32800656, 0.33914768, 0.33284576],\n       [0.32800232, 0.33915357, 0.33284412],\n       [0.32800418, 0.33914999, 0.33284584],\n       [0.32800439, 0.33915306, 0.33284255],\n       [0.32800624, 0.33914916, 0.3328446 ],\n       [0.32800669, 0.33914738, 0.33284593],\n       [0.3280048 , 0.33915131, 0.33284389],\n       [0.32800645, 0.33914911, 0.33284444],\n       [0.32800502, 0.33915203, 0.33284295],\n       [0.32800336, 0.33915184, 0.33284479],\n       [0.32800552, 0.33914998, 0.33284449],\n       [0.32800372, 0.33915409, 0.3328422 ],\n       [0.32800599, 0.33915204, 0.33284197],\n       [0.32800682, 0.33914969, 0.33284349],\n       [0.32800468, 0.33915123, 0.33284409],\n       [0.32800478, 0.33915158, 0.33284364],\n       [0.32800296, 0.33914985, 0.33284719],\n       [0.32800422, 0.33915319, 0.33284259]])"
     },
     "execution_count": 7,
     "metadata": {},
     "output_type": "execute_result"
    }
   ],
   "source": [
    "model_nn4.predict(dataset=dt_4)"
   ],
   "metadata": {
    "collapsed": false
   }
  },
  {
   "cell_type": "markdown",
   "source": [
    "10.5) Constrói um modelo de redes neuronais\n",
    "considerando a seguinte topologia:\n",
    "- O dataset de treino contém 32 features\n",
    "- O problema é do tipo regressão\n",
    "- O modelo deve conter 3 Dense layers :\n",
    "    • Dense layer de input\n",
    "    • Dense layer com redução do número de neurónios ( units ) para metade\n",
    "    • Dense layer final (output)\n",
    "- Usa a ReLU como layer de ativação\n",
    "- Considera que o modelo deve acabar com uma ativação linear"
   ],
   "metadata": {
    "collapsed": false
   }
  },
  {
   "cell_type": "code",
   "execution_count": 8,
   "outputs": [],
   "source": [
    "#training dataset\n",
    "x_5 = np.random.randn(100, 32)\n",
    "y_5= np.random.randn(100, 1)\n",
    "\n",
    "dt_5 = Dataset(x_5, y_5)"
   ],
   "metadata": {
    "collapsed": false
   }
  },
  {
   "cell_type": "code",
   "execution_count": 9,
   "outputs": [],
   "source": [
    "l1 = Dense(input_size = 32, output_size = 32)\n",
    "l2 = Dense(input_size = 32, output_size = 16)\n",
    "l3 = Dense(input_size = 16, output_size = 1)\n",
    "\n",
    "l1_rla = ReLUActivation()\n",
    "l2_rla = ReLUActivation()\n",
    "l3_la = LinearActivation()\n",
    "\n",
    "model_nn5 = NN([l1, l1_rla,l2,l2_rla,l3,l3_la])"
   ],
   "metadata": {
    "collapsed": false
   }
  },
  {
   "cell_type": "code",
   "execution_count": 10,
   "outputs": [
    {
     "ename": "TypeError",
     "evalue": "forward() takes 1 positional argument but 2 were given",
     "output_type": "error",
     "traceback": [
      "\u001B[1;31m---------------------------------------------------------------------------\u001B[0m",
      "\u001B[1;31mTypeError\u001B[0m                                 Traceback (most recent call last)",
      "Cell \u001B[1;32mIn [10], line 1\u001B[0m\n\u001B[1;32m----> 1\u001B[0m \u001B[43mmodel_nn5\u001B[49m\u001B[38;5;241;43m.\u001B[39;49m\u001B[43mpredict\u001B[49m\u001B[43m(\u001B[49m\u001B[43mdataset\u001B[49m\u001B[38;5;241;43m=\u001B[39;49m\u001B[43mdt_5\u001B[49m\u001B[43m)\u001B[49m\n",
      "File \u001B[1;32m~\\Documents\\GitHub\\si\\src\\si\\neuralnets\\nn.py:122\u001B[0m, in \u001B[0;36mNN.predict\u001B[1;34m(self, dataset)\u001B[0m\n\u001B[0;32m    120\u001B[0m \u001B[38;5;66;03m#propagação para a frente\u001B[39;00m\n\u001B[0;32m    121\u001B[0m \u001B[38;5;28;01mfor\u001B[39;00m layer \u001B[38;5;129;01min\u001B[39;00m \u001B[38;5;28mself\u001B[39m\u001B[38;5;241m.\u001B[39mlayers:\n\u001B[1;32m--> 122\u001B[0m     X \u001B[38;5;241m=\u001B[39m \u001B[43mlayer\u001B[49m\u001B[38;5;241;43m.\u001B[39;49m\u001B[43mforward\u001B[49m\u001B[43m(\u001B[49m\u001B[43mX\u001B[49m\u001B[43m)\u001B[49m\n\u001B[0;32m    124\u001B[0m \u001B[38;5;28;01mreturn\u001B[39;00m X\n",
      "\u001B[1;31mTypeError\u001B[0m: forward() takes 1 positional argument but 2 were given"
     ]
    }
   ],
   "source": [
    "model_nn5.predict(dataset=dt_5)"
   ],
   "metadata": {
    "collapsed": false
   }
  },
  {
   "cell_type": "code",
   "execution_count": null,
   "outputs": [],
   "source": [],
   "metadata": {
    "collapsed": false
   }
  }
 ],
 "metadata": {
  "kernelspec": {
   "display_name": "Python 3",
   "language": "python",
   "name": "python3"
  },
  "language_info": {
   "codemirror_mode": {
    "name": "ipython",
    "version": 2
   },
   "file_extension": ".py",
   "mimetype": "text/x-python",
   "name": "python",
   "nbconvert_exporter": "python",
   "pygments_lexer": "ipython2",
   "version": "2.7.6"
  }
 },
 "nbformat": 4,
 "nbformat_minor": 0
}
