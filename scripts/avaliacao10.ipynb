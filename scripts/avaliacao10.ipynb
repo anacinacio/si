{
 "cells": [
  {
   "cell_type": "markdown",
   "source": [
    "# AVALIAÇÃO 10"
   ],
   "metadata": {
    "collapsed": false
   }
  },
  {
   "cell_type": "markdown",
   "source": [
    "## Exercício 11\n",
    "Medidas de erro"
   ],
   "metadata": {
    "collapsed": false
   }
  },
  {
   "cell_type": "markdown",
   "source": [
    "11.1) Adiciona uma nova medida de erro chamada cross entropy\n",
    "- Deves adicionar a função cross_entropy ao módulo cross_entropy.py no sub package metrics\n",
    "- Considera a seguinte formula para implementares a medida de erro cross entropy"
   ],
   "metadata": {
    "collapsed": false
   }
  },
  {
   "cell_type": "code",
   "execution_count": 1,
   "outputs": [],
   "source": [
    "from si.metrics.cross_entropy import cross_entropy"
   ],
   "metadata": {
    "collapsed": false
   }
  },
  {
   "cell_type": "markdown",
   "source": [
    "11.2) Adiciona agora a derivada da medida de erro cross entropy\n",
    "- Deves adicionar uma nova função chamada cross_entropy_derivative ao módulo cross_entropy.py\n",
    "- Considera a formula da cross entropy apresentada no slide anterior.\n",
    "- Deriva a cross entropy em ordem a y"
   ],
   "metadata": {
    "collapsed": false
   }
  },
  {
   "cell_type": "code",
   "execution_count": 2,
   "outputs": [],
   "source": [
    "from si.metrics.cross_entropy import cross_entropy_derivative"
   ],
   "metadata": {
    "collapsed": false
   }
  },
  {
   "cell_type": "code",
   "execution_count": null,
   "outputs": [],
   "source": [],
   "metadata": {
    "collapsed": false
   }
  }
 ],
 "metadata": {
  "kernelspec": {
   "display_name": "Python 3",
   "language": "python",
   "name": "python3"
  },
  "language_info": {
   "codemirror_mode": {
    "name": "ipython",
    "version": 2
   },
   "file_extension": ".py",
   "mimetype": "text/x-python",
   "name": "python",
   "nbconvert_exporter": "python",
   "pygments_lexer": "ipython2",
   "version": "2.7.6"
  }
 },
 "nbformat": 4,
 "nbformat_minor": 0
}
