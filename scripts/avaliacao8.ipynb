{
 "cells": [
  {
   "cell_type": "markdown",
   "source": [
    "# AVALIAÇÃO 8"
   ],
   "metadata": {
    "collapsed": false
   }
  },
  {
   "cell_type": "markdown",
   "source": [
    "## Exercício 9\n",
    "Adapta o KMer para calcular a composição\n",
    "peptídica"
   ],
   "metadata": {
    "collapsed": false
   }
  },
  {
   "cell_type": "markdown",
   "source": [
    "9.1 ) O KMer deve ser capaz de calcular a composição nucleotídica peptídica. Podes adicionar um novo parâmetro chamado alphabet onde o utilizador fornece o alfabeto da sequência biológica.\n",
    "\n",
    "9.2) Testa o novo KMer para sequências de aminoácidos:\n",
    "\n",
    "1. Usa o dataset transporters.csv . Inspeciona o conteúdo do dataset\n",
    "2. Usa o KMer para obter a frequência de cada substring em cada sequência do dataset . Tamanho da substring (k): 2\n",
    "3. Usa o sklearn.preprocessing.StandardScaler para standardizar o dataset da composição pepetídica . dataset.X = StandardScaler fit_transform dataset.X\n",
    "4. Divide o dataset em treino e teste.\n",
    "5. Treina o modelo LogisticRegression no dataset de composição pepetídica\n",
    "6. Qual o score obtido?\n"
   ],
   "metadata": {
    "collapsed": false
   }
  },
  {
   "cell_type": "code",
   "execution_count": 1,
   "outputs": [],
   "source": [
    "import numpy as np\n",
    "import pandas as pd\n",
    "import matplotlib.pyplot as plt\n",
    "\n",
    "from si.io.csv import read_csv\n",
    "from si.model_selection.split import train_test_split\n",
    "from si.feature_extraction.k_mer import KMer\n",
    "from si.linear_model.logistic_regression import LogisticRegression\n"
   ],
   "metadata": {
    "collapsed": false
   }
  },
  {
   "cell_type": "code",
   "execution_count": 2,
   "outputs": [
    {
     "data": {
      "text/plain": "array([['MKKTLIALSVSAAAMATGVNAAELYNQDGTSLEMGGRAEARLSMKDGDAQDNSRIRLNFLGTQAINDNLYGVGFWEGEFTTNEQGGVDGDVNKDSSNLDTRYAYAGLGGAWGEFTYGKNEGALGVITDFTDIMAYHGNSAADKLAVADRSDNMMSYKGQFENLSVKASYRFADRKLNDAGTEYTDNGQDGYSLSAIYAVADTGLELGAGYADQDEANEYMLAASYTMGDLYFAGIFTDGEKAKTEGDYTGYELAGAYTLGQTVFTTTYNNAETNNETSANNFAVDASYYFKPNFRGYVSYNFNLIDSGDKLGKVGGNTTASKADAEDELALGLRYDF'],\n       ['MRIGVYVCHCGLNIAGVIDVSALEEMAGELEDVVLAREVQFLCSDSGQEGIIKDIKDNKIDRVVIAACSPRLHEKTFRHVMEKADLNPYLMEMVNIREQCSWVHADDPQMATQKAFDLIRMGVAKARFLRELSATSSKASRNVLIIGGGVAGIEAALNLAEAGFPVTMVERESTIGGKMALMNEVFPTNDCSICVLAPKMTEVQNHPNITLYTYSEVTDISGSVGKFHVRVTRKPRFVLEDKCKGCVDLCSEVCPVEIENPMNYGIGKSRAIYMPIPQSVPQVVLIDPDHCVGCGLCQLACPAEAVDYEQKPEEIEFEAGAVIVSTGYQLFDASRKKEYGFGKYPDVITNMQLERMLNSAGPTGGRVLVPSTGQPPESVAFIQCVGSRDKTVGNEHCSRVCCMAALKNSQMVKERYPGTDITIHYIDIRAAGEMYEEYYARTQGMGVDFIRGKVAEVYAGEDGRPVVRYENTLESRVEEEAHDLVVLSTGYEPSKAAEGIGRMLNLARRPDRFFASAHPKMRPVDAPVSGVFLAGCASGPKEIQVSIAQGSACASKVMQLLGTGELEADPMGAHVDPDKCIGCRTCVEVCKFGKISIVDKKAVVDEVSCYGCGDCSAACPVGAIQMRNFENEQILAQVRAATAHKSQCPFVVAFLCNWCSYACADLTGMSRIHYPTNIRVIRTMCSARINPEFVLEALKGGADGVLVAGCRMDECHYIHGNFDAKKRMDVLKEIIKEIGLDPKRLRTLWISAAEGERFSNTITEFVKELEEIGPIGSELKREYTATGLEEVAK'],\n       ['MELKNKKLSLWEAVSMAVGVMIGASIFSIFGVGAKIAGRNLPETFILSGIYALLVAYSYTKLGAKIVSNAGPIAFIHKAIGDNIITGALSILLWMSYVISIALFAKGFAGYFLPLINAPINTFNIAITEIGIVAFFTALNFFGSKAVGRAEFFIVLVKLLILGLFIFAGLITIHPSYVIPDLAPSAVSGMIFASAIFFLSYMGFGVITNASEHIENPKKNVPRAIFISILIVMFVYVGVAISAIGNLPIDELIKASENALAVAAKPFLGNLGFLLISIGALFSISSAMNATIYGGANVAYSLAKDGELPEFFERKVWFKSTEGLYITSALGVLFALLFNMEGVASITSAVFMVIYLFVILSHYILIDEVGGRKEIVIFSFIVVLGVFLLLLYYQWITNRFVFYGIIATFIGVLIFEIIYRKVTKRTFSNNMYVKS'],\n       ...,\n       ['MTAYIQRSQCISTSLLVVLTTLVSCQIPRDRLSNIGVIVDEGKSLKIAGSHESRYIVLSLVPGVDFENGCGTAQVIQYKSLLNRLLIPLRDALDLQEALITVTNDTTQNAGAPQSRFFGAVIGTIALGVATSAQITAGIALAEAREAKRDIALIKESMTKTHKSIELLQNAVGEQILALKTLQDFVNDEIKPAISELGCETAALRLGIKLTQHYSELLTAFGSNFGTIGEKSLTLQALSSLYSANITEIMTTIKTGQSNIYDVIYTEQIKGTVIDVDLERYMVTLSVKIPILSEVPGVLIHKASSISYNIDGEEWYVTVPSHILSRASFLGGADITDCVESRLTYICPRDPAQLIPDSQQKCILGDTTRCPVTKVVDSLIPKFAFVNGGVVANCIASTCTCGTGRRPISQDRSKGVVFLTHDNCGLIGVNGVELYANRRGHDATWGVQNLTVGPAIAIRPIDISLNLADATNFLQDSKAELEKARKILSEVGRWYNSRETVITIIVVMVVILVVIIVIIIVLYRLRRSMLMGNPDDRIPRDTYTLEPKIRHMYTNGGFDAMAEKR'],\n       ['MTEASEINLSDIKGPIDVNTPITNHRTALIQNYSTKPKLTYQTVFGVNGPLVIVHNVKFPMFNEIVKITLPNGQIRMGQVLESSKNKAVVQVFEGTTGVDAKFTTCEFTGDIFRSPVSLDMLGRIFNGSGKPIDKGPPVLPEDYLDINGQPINPFNRIYPEEMIQTGISAIDVMNSIARGQKIPIFSAAGLPHNEIAAQIVRQGGLVQLPGRNNETVNFAIVFAAMGVNMETARFFKQDFEECGSMDNVCLFLNLANDPTIERIITPRIALTAAEFFAYHCGKHVLVVLTDMSSYAEALREISAAREEVPGRRGFPGYMYTDLATIYERAGRVKGREGSITQIPILTMPNNDITHPIPDLTGYITEGQIYIDKQLHKRLIYPPIDVLPSLSRLMKSAVGEGMTREDHSDLSNQLYACYAMGKDVQAMKAVVGVEALSPDDLLYLEFLAKFEKNFIAQGRYENRTIVESLNIGWELLRIFPREMLKRIPETLLEKYYKRKKQ'],\n       ['MIKVRFAPSPTGYIHIGNIRIALFNWLYAQAHNGTFILRYDNTDVERSKQEYIDAIAVDLEWLGIQPDEIYYQSKRFNRYDEVAEILKQRGLLYPCYETAEELDRRRKIQLSRKLPPVYDRAALKLTPEKKREFETQGRKPHWRFLLPNFENDPLQKKRTEVCWNDAVKGKQTIDLASLSDPVLIREDGSYLYTLPSVVDDIDMAITHIIRGDDHITNTGAQIALFEALNAKLPTFGHINLLTTLLGKGLSKRNNDLSIHSLRADGFESIAVQCLAVLIGTSQNVHPYPNQAVLLEHFNLQDTSRSVAKFDIADLLTLNSHFVHELTYEEVKKRLENLSINGEKVECFWNAIRSNINKVNDAVLWWKMLHDEQNFDTVALEDRAFVRQSLNLLPEGTLNEESWKVWTVALKEKTGRRGKALFMPLRQALTGMDHGPEMGKILQLLGREKVIERLIIQGE']],\n      dtype=object)"
     },
     "execution_count": 2,
     "metadata": {},
     "output_type": "execute_result"
    }
   ],
   "source": [
    "#dataset\n",
    "transporters_dataset = read_csv('C:/Users/Carolina/Documents/GitHub/si/datasets/transporters.csv', sep=',',features=True, label=True)\n",
    "transporters_dataset.X"
   ],
   "metadata": {
    "collapsed": false
   }
  },
  {
   "cell_type": "code",
   "execution_count": 3,
   "outputs": [],
   "source": [
    "#KMer para obter a frequência de cada substring em cada sequência do dataset . Tamanho da substring (k): 2\n",
    "kmer = KMer(k=2, alphabet= \"PROT\")\n",
    "kmer_transporters = kmer.fit_transform(transporters_dataset)"
   ],
   "metadata": {
    "collapsed": false
   }
  },
  {
   "cell_type": "code",
   "execution_count": 4,
   "outputs": [
    {
     "data": {
      "text/plain": "array([[0.        , 0.00296736, 0.        , ..., 0.        , 0.00296736,\n        0.01186944],\n       [0.00126103, 0.00504414, 0.00252207, ..., 0.        , 0.0037831 ,\n        0.00630517],\n       [0.01149425, 0.01149425, 0.01609195, ..., 0.        , 0.00689655,\n        0.0045977 ],\n       ...,\n       [0.00176991, 0.00530973, 0.        , ..., 0.        , 0.00353982,\n        0.00530973],\n       [0.00399202, 0.00399202, 0.00199601, ..., 0.00199601, 0.01197605,\n        0.00199601],\n       [0.        , 0.00217865, 0.00217865, ..., 0.        , 0.00653595,\n        0.        ]])"
     },
     "execution_count": 4,
     "metadata": {},
     "output_type": "execute_result"
    }
   ],
   "source": [
    "kmer_transporters.X"
   ],
   "metadata": {
    "collapsed": false
   }
  },
  {
   "cell_type": "code",
   "execution_count": 5,
   "outputs": [],
   "source": [
    "#standardizar o dataset\n",
    "\n",
    "from sklearn import preprocessing\n",
    "kmer_transporters.X= preprocessing.StandardScaler().fit_transform(kmer_transporters.X)"
   ],
   "metadata": {
    "collapsed": false
   }
  },
  {
   "cell_type": "code",
   "execution_count": 6,
   "outputs": [],
   "source": [
    "#dividir dataset em treino e teste\n",
    "kmer_transporters_train, kmer_transporters_test = train_test_split(kmer_transporters)\n"
   ],
   "metadata": {
    "collapsed": false
   }
  },
  {
   "cell_type": "code",
   "execution_count": 7,
   "outputs": [
    {
     "data": {
      "text/plain": "(402, 441)"
     },
     "execution_count": 7,
     "metadata": {},
     "output_type": "execute_result"
    }
   ],
   "source": [
    "kmer_transporters_train.X.shape"
   ],
   "metadata": {
    "collapsed": false
   }
  },
  {
   "cell_type": "code",
   "execution_count": 8,
   "outputs": [
    {
     "name": "stdout",
     "output_type": "stream",
     "text": [
      "(402,) (402,)\n"
     ]
    }
   ],
   "source": [
    "print(kmer_transporters_train.y.shape, kmer_transporters_test.y.shape)"
   ],
   "metadata": {
    "collapsed": false
   }
  },
  {
   "cell_type": "code",
   "execution_count": 9,
   "outputs": [
    {
     "data": {
      "text/plain": "<si.linear_model.logistic_regression.LogisticRegression at 0x282b039b7f0>"
     },
     "execution_count": 9,
     "metadata": {},
     "output_type": "execute_result"
    }
   ],
   "source": [
    "#modelo Logistic Regression\n",
    "model_log = LogisticRegression()\n",
    "model_log.fit(kmer_transporters_train)"
   ],
   "metadata": {
    "collapsed": false
   }
  },
  {
   "cell_type": "code",
   "execution_count": 10,
   "outputs": [
    {
     "name": "stdout",
     "output_type": "stream",
     "text": [
      "O score obtido é de: 0.8582089552238806\n"
     ]
    }
   ],
   "source": [
    "#score\n",
    "score = model_log.score(kmer_transporters_test)\n",
    "print(f\"O score obtido é de: {score}\")"
   ],
   "metadata": {
    "collapsed": false
   }
  }
 ],
 "metadata": {
  "kernelspec": {
   "display_name": "Python 3",
   "language": "python",
   "name": "python3"
  },
  "language_info": {
   "codemirror_mode": {
    "name": "ipython",
    "version": 2
   },
   "file_extension": ".py",
   "mimetype": "text/x-python",
   "name": "python",
   "nbconvert_exporter": "python",
   "pygments_lexer": "ipython2",
   "version": "2.7.6"
  }
 },
 "nbformat": 4,
 "nbformat_minor": 0
}
